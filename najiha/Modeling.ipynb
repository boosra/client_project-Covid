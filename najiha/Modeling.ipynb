{
 "cells": [
  {
   "cell_type": "markdown",
   "metadata": {},
   "source": [
    "# Problem Statement"
   ]
  },
  {
   "cell_type": "code",
   "execution_count": null,
   "metadata": {},
   "outputs": [],
   "source": []
  },
  {
   "cell_type": "markdown",
   "metadata": {},
   "source": [
    "## Executive Summary "
   ]
  },
  {
   "cell_type": "code",
   "execution_count": null,
   "metadata": {},
   "outputs": [],
   "source": []
  },
  {
   "cell_type": "markdown",
   "metadata": {},
   "source": [
    "## Contents:"
   ]
  },
  {
   "cell_type": "markdown",
   "metadata": {},
   "source": [
    "- **[Import Libraries](#Import-Libraries)**. \n",
    "\n",
    "- **[Loading Data](#Loading-Data)**. \n",
    "    \n",
    "- **[Data Cleaning & EDA](#Data-Cleaning-Exploratory-Data-Analysis)**.  \n",
    "\n",
    "\n",
    "- **[Word Vectorizer](#Word-Vectorizer)**.  \n",
    "\n",
    "- **[Tweet Vectorizer](#Tweet-Vectorizer)**. \n",
    "\n",
    "\n",
    "- **[Model Preparation](#Model-Preparation)**. \n",
    "\n",
    " - **[Modeling](#Modeling)**.   \n",
    " \n",
    "   - **[K-Means](#K-Means)**.  \n",
    "        - **[K Means Clustering with NLTK Library](#K-Means-Clustering-with-NLTK-Library)**.  \n",
    "        - **[K Means Clustering with Scikit-learn Library](#K-Means-Clustering-with-Scikit-learn-Library)**. \n",
    "   - **[DBSCAN](#DBSCAN)**.    \n",
    "   \n",
    "- **[Model Evaluation](#Model-Evaluation)**.  \n",
    "\n",
    "- **[Conclusions and Recommendations](#Conclusions-and-Recommendations)**.  \n",
    "\n",
    "- **[References](#References)**."
   ]
  },
  {
   "cell_type": "markdown",
   "metadata": {},
   "source": [
    "### Importing Libraries"
   ]
  },
  {
   "cell_type": "code",
   "execution_count": 2,
   "metadata": {},
   "outputs": [],
   "source": [
    "import warnings\n",
    "warnings.filterwarnings(\"ignore\")\n",
    "\n",
    "\n",
    "import pandas as pd\n",
    "import numpy as np\n",
    "import matplotlib.pyplot as plt\n",
    "import seaborn as sns\n",
    "\n",
    "import gensim\n",
    "import re\n",
    "from gensim.models.word2vec import Word2Vec \n",
    "from nltk.tokenize import RegexpTokenizer \n",
    "from nltk.stem import WordNetLemmatizer,PorterStemmer\n",
    "from nltk.stem.snowball import EnglishStemmer\n",
    "from nltk.corpus import stopwords\n",
    "from tqdm import tqdm\n",
    "tqdm.pandas(desc=\"progress-bar\")\n",
    "from nltk.tokenize import TweetTokenizer # a tweet tokenizer from nltk.\n",
    "tokenizer = TweetTokenizer()\n",
    "from sklearn.feature_extraction.text import TfidfVectorizer\n",
    "from nltk.cluster import KMeansClusterer\n",
    "import nltk\n",
    "\n",
    "#from sklearn.preprocessing import StandardScaler\n",
    "from sklearn.cluster import DBSCAN , KMeans\n",
    "from sklearn.metrics import silhouette_score\n",
    "from sklearn.model_selection import train_test_split\n",
    "\n",
    "#from sklearn.datasets import make_blobs\n",
    "#from sklearn.linear_model import LogisticRegression\n",
    "#from sklearn.decomposition import PCA\n",
    "\n",
    "RANDOM_STATE = 7777\n",
    "%matplotlib inline\n"
   ]
  },
  {
   "cell_type": "markdown",
   "metadata": {},
   "source": [
    "### Loading Data"
   ]
  },
  {
   "cell_type": "code",
   "execution_count": 3,
   "metadata": {},
   "outputs": [
    {
     "data": {
      "text/html": [
       "<div>\n",
       "<style scoped>\n",
       "    .dataframe tbody tr th:only-of-type {\n",
       "        vertical-align: middle;\n",
       "    }\n",
       "\n",
       "    .dataframe tbody tr th {\n",
       "        vertical-align: top;\n",
       "    }\n",
       "\n",
       "    .dataframe thead th {\n",
       "        text-align: right;\n",
       "    }\n",
       "</style>\n",
       "<table border=\"1\" class=\"dataframe\">\n",
       "  <thead>\n",
       "    <tr style=\"text-align: right;\">\n",
       "      <th></th>\n",
       "      <th>tweet_id</th>\n",
       "      <th>username</th>\n",
       "      <th>text</th>\n",
       "      <th>tweet_date</th>\n",
       "      <th>search_term</th>\n",
       "      <th>city</th>\n",
       "      <th>lat</th>\n",
       "      <th>long</th>\n",
       "      <th>radius</th>\n",
       "      <th>query_start</th>\n",
       "    </tr>\n",
       "  </thead>\n",
       "  <tbody>\n",
       "    <tr>\n",
       "      <th>0</th>\n",
       "      <td>1234258409408602118</td>\n",
       "      <td>e.p.c.</td>\n",
       "      <td>Did the first of several shopping runs, though...</td>\n",
       "      <td>2020-03-01 23:25:10</td>\n",
       "      <td>COVID</td>\n",
       "      <td>Brooklyn</td>\n",
       "      <td>40.650002</td>\n",
       "      <td>-73.949997</td>\n",
       "      <td>10mi</td>\n",
       "      <td>2020-02-01</td>\n",
       "    </tr>\n",
       "    <tr>\n",
       "      <th>1</th>\n",
       "      <td>1234253374725459968</td>\n",
       "      <td>@geminiwoe</td>\n",
       "      <td>Looks like adios muchachos for the US #COVID #...</td>\n",
       "      <td>2020-03-01 23:05:10</td>\n",
       "      <td>COVID</td>\n",
       "      <td>Brooklyn</td>\n",
       "      <td>40.650002</td>\n",
       "      <td>-73.949997</td>\n",
       "      <td>10mi</td>\n",
       "      <td>2020-02-01</td>\n",
       "    </tr>\n",
       "    <tr>\n",
       "      <th>2</th>\n",
       "      <td>1234241890700218370</td>\n",
       "      <td>enigma4ever 🌹🆘 🌊 🕊️🍑👩‍⚕️💉😷</td>\n",
       "      <td>Humour..snl...on #COVID #coronavirususahttps:/...</td>\n",
       "      <td>2020-03-01 22:19:32</td>\n",
       "      <td>COVID</td>\n",
       "      <td>Brooklyn</td>\n",
       "      <td>40.650002</td>\n",
       "      <td>-73.949997</td>\n",
       "      <td>10mi</td>\n",
       "      <td>2020-02-01</td>\n",
       "    </tr>\n",
       "    <tr>\n",
       "      <th>3</th>\n",
       "      <td>1234238588474331136</td>\n",
       "      <td>° ° °</td>\n",
       "      <td>had to go to three diff convenient stores to f...</td>\n",
       "      <td>2020-03-01 22:06:25</td>\n",
       "      <td>COVID</td>\n",
       "      <td>Brooklyn</td>\n",
       "      <td>40.650002</td>\n",
       "      <td>-73.949997</td>\n",
       "      <td>10mi</td>\n",
       "      <td>2020-02-01</td>\n",
       "    </tr>\n",
       "    <tr>\n",
       "      <th>4</th>\n",
       "      <td>1234238537068883968</td>\n",
       "      <td>enigma4ever 🌹🆘 🌊 🕊️🍑👩‍⚕️💉😷</td>\n",
       "      <td>#COVID #Coronovirius in nursing home setting ,...</td>\n",
       "      <td>2020-03-01 22:06:12</td>\n",
       "      <td>COVID</td>\n",
       "      <td>Brooklyn</td>\n",
       "      <td>40.650002</td>\n",
       "      <td>-73.949997</td>\n",
       "      <td>10mi</td>\n",
       "      <td>2020-02-01</td>\n",
       "    </tr>\n",
       "  </tbody>\n",
       "</table>\n",
       "</div>"
      ],
      "text/plain": [
       "              tweet_id                    username  \\\n",
       "0  1234258409408602118                      e.p.c.   \n",
       "1  1234253374725459968                  @geminiwoe   \n",
       "2  1234241890700218370  enigma4ever 🌹🆘 🌊 🕊️🍑👩‍⚕️💉😷   \n",
       "3  1234238588474331136                       ° ° °   \n",
       "4  1234238537068883968  enigma4ever 🌹🆘 🌊 🕊️🍑👩‍⚕️💉😷   \n",
       "\n",
       "                                                text           tweet_date  \\\n",
       "0  Did the first of several shopping runs, though...  2020-03-01 23:25:10   \n",
       "1  Looks like adios muchachos for the US #COVID #...  2020-03-01 23:05:10   \n",
       "2  Humour..snl...on #COVID #coronavirususahttps:/...  2020-03-01 22:19:32   \n",
       "3  had to go to three diff convenient stores to f...  2020-03-01 22:06:25   \n",
       "4  #COVID #Coronovirius in nursing home setting ,...  2020-03-01 22:06:12   \n",
       "\n",
       "  search_term      city        lat       long radius query_start  \n",
       "0       COVID  Brooklyn  40.650002 -73.949997   10mi  2020-02-01  \n",
       "1       COVID  Brooklyn  40.650002 -73.949997   10mi  2020-02-01  \n",
       "2       COVID  Brooklyn  40.650002 -73.949997   10mi  2020-02-01  \n",
       "3       COVID  Brooklyn  40.650002 -73.949997   10mi  2020-02-01  \n",
       "4       COVID  Brooklyn  40.650002 -73.949997   10mi  2020-02-01  "
      ]
     },
     "execution_count": 3,
     "metadata": {},
     "output_type": "execute_result"
    }
   ],
   "source": [
    "df = pd.read_csv(\"../adam/datasets/scrape_5.12.csv\")\n",
    "\n",
    "df.head()"
   ]
  },
  {
   "cell_type": "code",
   "execution_count": 4,
   "metadata": {},
   "outputs": [],
   "source": [
    "df.drop_duplicates(inplace = True)"
   ]
  },
  {
   "cell_type": "code",
   "execution_count": 5,
   "metadata": {},
   "outputs": [
    {
     "data": {
      "text/plain": [
       "(114044, 10)"
      ]
     },
     "execution_count": 5,
     "metadata": {},
     "output_type": "execute_result"
    }
   ],
   "source": [
    "df.shape"
   ]
  },
  {
   "cell_type": "markdown",
   "metadata": {},
   "source": [
    "### Data Cleaning & EDA."
   ]
  },
  {
   "cell_type": "code",
   "execution_count": 7,
   "metadata": {},
   "outputs": [],
   "source": [
    "df['text'] = df['text'].astype(str).str.lower()\n",
    "df['token_text'] = df['text'].str.replace('([^ a-zA-Z0-9])', '').str.replace('http\\S+|www.\\S+', '', case=False).replace('coronavirus', 'covid19')\n",
    "\n",
    "stop = stopwords.words('english')\n",
    "df['stop_text'] = df['token_text'].apply(lambda x: [item for item in str(x).split() \n",
    "                                                    if item not in stop])"
   ]
  },
  {
   "cell_type": "code",
   "execution_count": 8,
   "metadata": {},
   "outputs": [
    {
     "data": {
      "text/plain": [
       "0    did the first of several shopping runs, though...\n",
       "1    looks like adios muchachos for the us #covid #...\n",
       "2    humour..snl...on #covid #coronavirususahttps:/...\n",
       "3    had to go to three diff convenient stores to f...\n",
       "4    #covid #coronovirius in nursing home setting ,...\n",
       "Name: text, dtype: object"
      ]
     },
     "execution_count": 8,
     "metadata": {},
     "output_type": "execute_result"
    }
   ],
   "source": [
    "df['text'].head()"
   ]
  },
  {
   "cell_type": "code",
   "execution_count": 9,
   "metadata": {},
   "outputs": [
    {
     "data": {
      "text/plain": [
       "0    [first, several, shopping, runs, though, ended...\n",
       "1    [looks, like, adios, muchachos, us, covid, cov...\n",
       "2                 [humoursnlon, covid, coronavirususa]\n",
       "3    [go, three, diff, convenient, stores, find, re...\n",
       "4    [covid, coronovirius, nursing, home, setting, ...\n",
       "Name: stop_text, dtype: object"
      ]
     },
     "execution_count": 9,
     "metadata": {},
     "output_type": "execute_result"
    }
   ],
   "source": [
    "df['stop_text'].head()"
   ]
  },
  {
   "cell_type": "code",
   "execution_count": 10,
   "metadata": {},
   "outputs": [
    {
     "data": {
      "text/plain": [
       "0    did the first of several shopping runs though ...\n",
       "1    looks like adios muchachos for the us covid co...\n",
       "2                     humoursnlon covid coronavirususa\n",
       "3    had to go to three diff convenient stores to f...\n",
       "4    covid coronovirius in nursing home setting  ki...\n",
       "Name: token_text, dtype: object"
      ]
     },
     "execution_count": 10,
     "metadata": {},
     "output_type": "execute_result"
    }
   ],
   "source": [
    "df['token_text'].head()"
   ]
  },
  {
   "cell_type": "markdown",
   "metadata": {},
   "source": [
    "### Word Vectorizer"
   ]
  },
  {
   "cell_type": "code",
   "execution_count": 11,
   "metadata": {},
   "outputs": [],
   "source": [
    "sent = [row for row in df['stop_text']]"
   ]
  },
  {
   "cell_type": "code",
   "execution_count": 12,
   "metadata": {},
   "outputs": [],
   "source": [
    "tweet_w2v = Word2Vec(size=1000, min_count=100, window=10)"
   ]
  },
  {
   "cell_type": "code",
   "execution_count": 13,
   "metadata": {},
   "outputs": [],
   "source": [
    "tweet_w2v.build_vocab(sent)"
   ]
  },
  {
   "cell_type": "code",
   "execution_count": 14,
   "metadata": {},
   "outputs": [
    {
     "data": {
      "text/plain": [
       "[('ser', 0.10352224111557007),\n",
       " ('google', 0.10276614129543304),\n",
       " ('knowledge', 0.0962667167186737),\n",
       " ('hear', 0.09062155336141586),\n",
       " ('racism', 0.08931808918714523),\n",
       " ('dead', 0.08905940502882004),\n",
       " ('internet', 0.08730019629001617),\n",
       " ('wash', 0.0856761783361435),\n",
       " ('ahead', 0.0846472829580307),\n",
       " ('outside', 0.08437663316726685)]"
      ]
     },
     "execution_count": 14,
     "metadata": {},
     "output_type": "execute_result"
    }
   ],
   "source": [
    "tweet_w2v.most_similar('positive')"
   ]
  },
  {
   "cell_type": "code",
   "execution_count": 15,
   "metadata": {},
   "outputs": [],
   "source": [
    "#df.isnull().sum()"
   ]
  },
  {
   "cell_type": "code",
   "execution_count": 16,
   "metadata": {},
   "outputs": [],
   "source": [
    "#df = df.dropna() #droping null rows"
   ]
  },
  {
   "cell_type": "code",
   "execution_count": 17,
   "metadata": {},
   "outputs": [],
   "source": [
    "#df.isnull().sum().sum()"
   ]
  },
  {
   "cell_type": "code",
   "execution_count": 18,
   "metadata": {},
   "outputs": [],
   "source": [
    "#df.shape"
   ]
  },
  {
   "cell_type": "markdown",
   "metadata": {},
   "source": [
    "### Tweet Vectorizer"
   ]
  },
  {
   "cell_type": "code",
   "execution_count": 19,
   "metadata": {},
   "outputs": [],
   "source": [
    "# Functions found in this cell were created by instructor Noah C\n",
    "# He is great\n",
    "# Define vectorization function\n",
    "#word2vecmodel = tweet_w2v\n",
    "def vectorize_corpus(keyword_list):    \n",
    "    # Instantiate counter for number of words in keyword_list that exists\n",
    "    n_words = 0\n",
    "    # Create template for cumulative corpus vector sum\n",
    "    corpus_vec_sum = np.zeros((1,1000))                 \n",
    "    # Scan through each word in list\n",
    "    for word in keyword_list:\n",
    "        if word in tweet_w2v.wv.vocab:                    \n",
    "            word_vec = tweet_w2v.wv.word_vec(word)\n",
    "            #print(word_vec)\n",
    "            n_words +=1                                \n",
    "            corpus_vec_sum = corpus_vec_sum + word_vec \n",
    "    # Compute average vector by taking cumulative vector sum and dividing it by number of words traced\n",
    "    corpus_avg_vec = corpus_vec_sum/n_words\n",
    "    # Squeeze this N-dimensional nested array object into a 1-D array to streamline future processing\n",
    "    corpus_avg_vec = np.squeeze(corpus_avg_vec)\n",
    "    return(corpus_avg_vec)\n",
    "#defining cosine similarity function\n",
    "def cos_sim(vector_1, vector_2):\n",
    "    dp = np.dot(vector_1, vector_2)\n",
    "    magnitude_v1 = np.sqrt(np.dot(vector_1,vector_1))\n",
    "    magnitude_v2 = np.sqrt(np.dot(vector_2,vector_2))\n",
    "    return(dp/(magnitude_v1*magnitude_v2))"
   ]
  },
  {
   "cell_type": "code",
   "execution_count": 20,
   "metadata": {},
   "outputs": [],
   "source": [
    "vect_tweets = [vectorize_corpus(tweet) for tweet in df['stop_text']]\n",
    "vect_df = pd.DataFrame(vect_tweets)"
   ]
  },
  {
   "cell_type": "code",
   "execution_count": 21,
   "metadata": {
    "scrolled": true
   },
   "outputs": [],
   "source": [
    "#vect_df"
   ]
  },
  {
   "cell_type": "code",
   "execution_count": 59,
   "metadata": {},
   "outputs": [],
   "source": [
    "#vect_df = vect_df.fillna(vect_df.mean())"
   ]
  },
  {
   "cell_type": "code",
   "execution_count": 22,
   "metadata": {},
   "outputs": [
    {
     "name": "stdout",
     "output_type": "stream",
     "text": [
      "(114044, 12)\n",
      "(114044, 1000)\n"
     ]
    }
   ],
   "source": [
    "print(df.shape)\n",
    "print(vect_df.shape)"
   ]
  },
  {
   "cell_type": "code",
   "execution_count": 23,
   "metadata": {},
   "outputs": [
    {
     "data": {
      "text/plain": [
       "(107799, 1012)"
      ]
     },
     "execution_count": 23,
     "metadata": {},
     "output_type": "execute_result"
    }
   ],
   "source": [
    "join_df = df.join(vect_df)\n",
    "join_df.dropna(inplace = True)\n",
    "join_df.shape"
   ]
  },
  {
   "cell_type": "code",
   "execution_count": 24,
   "metadata": {},
   "outputs": [
    {
     "data": {
      "text/html": [
       "<div>\n",
       "<style scoped>\n",
       "    .dataframe tbody tr th:only-of-type {\n",
       "        vertical-align: middle;\n",
       "    }\n",
       "\n",
       "    .dataframe tbody tr th {\n",
       "        vertical-align: top;\n",
       "    }\n",
       "\n",
       "    .dataframe thead th {\n",
       "        text-align: right;\n",
       "    }\n",
       "</style>\n",
       "<table border=\"1\" class=\"dataframe\">\n",
       "  <thead>\n",
       "    <tr style=\"text-align: right;\">\n",
       "      <th></th>\n",
       "      <th>1</th>\n",
       "      <th>2</th>\n",
       "      <th>3</th>\n",
       "      <th>4</th>\n",
       "      <th>5</th>\n",
       "      <th>6</th>\n",
       "      <th>7</th>\n",
       "      <th>8</th>\n",
       "      <th>9</th>\n",
       "      <th>10</th>\n",
       "      <th>...</th>\n",
       "      <th>990</th>\n",
       "      <th>991</th>\n",
       "      <th>992</th>\n",
       "      <th>993</th>\n",
       "      <th>994</th>\n",
       "      <th>995</th>\n",
       "      <th>996</th>\n",
       "      <th>997</th>\n",
       "      <th>998</th>\n",
       "      <th>999</th>\n",
       "    </tr>\n",
       "  </thead>\n",
       "  <tbody>\n",
       "    <tr>\n",
       "      <th>0</th>\n",
       "      <td>-0.000054</td>\n",
       "      <td>0.000025</td>\n",
       "      <td>-1.667924e-05</td>\n",
       "      <td>0.000011</td>\n",
       "      <td>-0.000015</td>\n",
       "      <td>-0.000007</td>\n",
       "      <td>0.000042</td>\n",
       "      <td>-0.000060</td>\n",
       "      <td>0.000041</td>\n",
       "      <td>-0.000036</td>\n",
       "      <td>...</td>\n",
       "      <td>-0.000168</td>\n",
       "      <td>0.000059</td>\n",
       "      <td>0.000019</td>\n",
       "      <td>-0.000108</td>\n",
       "      <td>0.000059</td>\n",
       "      <td>-0.000054</td>\n",
       "      <td>0.000165</td>\n",
       "      <td>0.000023</td>\n",
       "      <td>-0.000021</td>\n",
       "      <td>0.000074</td>\n",
       "    </tr>\n",
       "    <tr>\n",
       "      <th>1</th>\n",
       "      <td>0.000136</td>\n",
       "      <td>-0.000019</td>\n",
       "      <td>1.443993e-04</td>\n",
       "      <td>-0.000042</td>\n",
       "      <td>-0.000049</td>\n",
       "      <td>-0.000066</td>\n",
       "      <td>-0.000135</td>\n",
       "      <td>-0.000029</td>\n",
       "      <td>0.000121</td>\n",
       "      <td>-0.000223</td>\n",
       "      <td>...</td>\n",
       "      <td>-0.000047</td>\n",
       "      <td>-0.000083</td>\n",
       "      <td>0.000084</td>\n",
       "      <td>0.000064</td>\n",
       "      <td>-0.000033</td>\n",
       "      <td>0.000129</td>\n",
       "      <td>0.000090</td>\n",
       "      <td>-0.000082</td>\n",
       "      <td>-0.000047</td>\n",
       "      <td>0.000105</td>\n",
       "    </tr>\n",
       "    <tr>\n",
       "      <th>2</th>\n",
       "      <td>0.000036</td>\n",
       "      <td>0.000148</td>\n",
       "      <td>2.978641e-06</td>\n",
       "      <td>-0.000239</td>\n",
       "      <td>0.000020</td>\n",
       "      <td>0.000337</td>\n",
       "      <td>-0.000077</td>\n",
       "      <td>0.000022</td>\n",
       "      <td>0.000054</td>\n",
       "      <td>-0.000230</td>\n",
       "      <td>...</td>\n",
       "      <td>-0.000109</td>\n",
       "      <td>-0.000264</td>\n",
       "      <td>0.000012</td>\n",
       "      <td>0.000272</td>\n",
       "      <td>-0.000157</td>\n",
       "      <td>-0.000172</td>\n",
       "      <td>-0.000081</td>\n",
       "      <td>0.000246</td>\n",
       "      <td>0.000042</td>\n",
       "      <td>-0.000209</td>\n",
       "    </tr>\n",
       "    <tr>\n",
       "      <th>3</th>\n",
       "      <td>0.000010</td>\n",
       "      <td>-0.000109</td>\n",
       "      <td>2.119401e-08</td>\n",
       "      <td>0.000084</td>\n",
       "      <td>0.000100</td>\n",
       "      <td>-0.000046</td>\n",
       "      <td>0.000004</td>\n",
       "      <td>-0.000082</td>\n",
       "      <td>-0.000038</td>\n",
       "      <td>-0.000073</td>\n",
       "      <td>...</td>\n",
       "      <td>-0.000062</td>\n",
       "      <td>0.000048</td>\n",
       "      <td>0.000096</td>\n",
       "      <td>0.000052</td>\n",
       "      <td>-0.000015</td>\n",
       "      <td>0.000002</td>\n",
       "      <td>0.000002</td>\n",
       "      <td>0.000138</td>\n",
       "      <td>-0.000061</td>\n",
       "      <td>-0.000034</td>\n",
       "    </tr>\n",
       "    <tr>\n",
       "      <th>4</th>\n",
       "      <td>0.000069</td>\n",
       "      <td>0.000008</td>\n",
       "      <td>3.158759e-05</td>\n",
       "      <td>-0.000098</td>\n",
       "      <td>-0.000006</td>\n",
       "      <td>0.000148</td>\n",
       "      <td>-0.000278</td>\n",
       "      <td>0.000056</td>\n",
       "      <td>-0.000050</td>\n",
       "      <td>-0.000206</td>\n",
       "      <td>...</td>\n",
       "      <td>-0.000085</td>\n",
       "      <td>0.000032</td>\n",
       "      <td>0.000012</td>\n",
       "      <td>0.000024</td>\n",
       "      <td>0.000003</td>\n",
       "      <td>0.000124</td>\n",
       "      <td>-0.000067</td>\n",
       "      <td>-0.000202</td>\n",
       "      <td>0.000163</td>\n",
       "      <td>0.000007</td>\n",
       "    </tr>\n",
       "  </tbody>\n",
       "</table>\n",
       "<p>5 rows × 999 columns</p>\n",
       "</div>"
      ],
      "text/plain": [
       "        1         2             3         4         5         6         7    \\\n",
       "0 -0.000054  0.000025 -1.667924e-05  0.000011 -0.000015 -0.000007  0.000042   \n",
       "1  0.000136 -0.000019  1.443993e-04 -0.000042 -0.000049 -0.000066 -0.000135   \n",
       "2  0.000036  0.000148  2.978641e-06 -0.000239  0.000020  0.000337 -0.000077   \n",
       "3  0.000010 -0.000109  2.119401e-08  0.000084  0.000100 -0.000046  0.000004   \n",
       "4  0.000069  0.000008  3.158759e-05 -0.000098 -0.000006  0.000148 -0.000278   \n",
       "\n",
       "        8         9         10   ...       990       991       992       993  \\\n",
       "0 -0.000060  0.000041 -0.000036  ... -0.000168  0.000059  0.000019 -0.000108   \n",
       "1 -0.000029  0.000121 -0.000223  ... -0.000047 -0.000083  0.000084  0.000064   \n",
       "2  0.000022  0.000054 -0.000230  ... -0.000109 -0.000264  0.000012  0.000272   \n",
       "3 -0.000082 -0.000038 -0.000073  ... -0.000062  0.000048  0.000096  0.000052   \n",
       "4  0.000056 -0.000050 -0.000206  ... -0.000085  0.000032  0.000012  0.000024   \n",
       "\n",
       "        994       995       996       997       998       999  \n",
       "0  0.000059 -0.000054  0.000165  0.000023 -0.000021  0.000074  \n",
       "1 -0.000033  0.000129  0.000090 -0.000082 -0.000047  0.000105  \n",
       "2 -0.000157 -0.000172 -0.000081  0.000246  0.000042 -0.000209  \n",
       "3 -0.000015  0.000002  0.000002  0.000138 -0.000061 -0.000034  \n",
       "4  0.000003  0.000124 -0.000067 -0.000202  0.000163  0.000007  \n",
       "\n",
       "[5 rows x 999 columns]"
      ]
     },
     "execution_count": 24,
     "metadata": {},
     "output_type": "execute_result"
    }
   ],
   "source": [
    "clean_vec_df= join_df.iloc[:, [i for i in range(13,1012)]]\n",
    "clean_og_df = join_df.iloc[:, [i for i in range(0,12)]]\n",
    "clean_vec_df.head()"
   ]
  },
  {
   "cell_type": "code",
   "execution_count": 25,
   "metadata": {},
   "outputs": [
    {
     "data": {
      "text/html": [
       "<div>\n",
       "<style scoped>\n",
       "    .dataframe tbody tr th:only-of-type {\n",
       "        vertical-align: middle;\n",
       "    }\n",
       "\n",
       "    .dataframe tbody tr th {\n",
       "        vertical-align: top;\n",
       "    }\n",
       "\n",
       "    .dataframe thead th {\n",
       "        text-align: right;\n",
       "    }\n",
       "</style>\n",
       "<table border=\"1\" class=\"dataframe\">\n",
       "  <thead>\n",
       "    <tr style=\"text-align: right;\">\n",
       "      <th></th>\n",
       "      <th>tweet_id</th>\n",
       "      <th>username</th>\n",
       "      <th>text</th>\n",
       "      <th>tweet_date</th>\n",
       "      <th>search_term</th>\n",
       "      <th>city</th>\n",
       "      <th>lat</th>\n",
       "      <th>long</th>\n",
       "      <th>radius</th>\n",
       "      <th>query_start</th>\n",
       "      <th>token_text</th>\n",
       "      <th>stop_text</th>\n",
       "    </tr>\n",
       "  </thead>\n",
       "  <tbody>\n",
       "    <tr>\n",
       "      <th>0</th>\n",
       "      <td>1234258409408602118</td>\n",
       "      <td>e.p.c.</td>\n",
       "      <td>did the first of several shopping runs, though...</td>\n",
       "      <td>2020-03-01 23:25:10</td>\n",
       "      <td>COVID</td>\n",
       "      <td>Brooklyn</td>\n",
       "      <td>40.650002</td>\n",
       "      <td>-73.949997</td>\n",
       "      <td>10mi</td>\n",
       "      <td>2020-02-01</td>\n",
       "      <td>did the first of several shopping runs though ...</td>\n",
       "      <td>[first, several, shopping, runs, though, ended...</td>\n",
       "    </tr>\n",
       "    <tr>\n",
       "      <th>1</th>\n",
       "      <td>1234253374725459968</td>\n",
       "      <td>@geminiwoe</td>\n",
       "      <td>looks like adios muchachos for the us #covid #...</td>\n",
       "      <td>2020-03-01 23:05:10</td>\n",
       "      <td>COVID</td>\n",
       "      <td>Brooklyn</td>\n",
       "      <td>40.650002</td>\n",
       "      <td>-73.949997</td>\n",
       "      <td>10mi</td>\n",
       "      <td>2020-02-01</td>\n",
       "      <td>looks like adios muchachos for the us covid co...</td>\n",
       "      <td>[looks, like, adios, muchachos, us, covid, cov...</td>\n",
       "    </tr>\n",
       "    <tr>\n",
       "      <th>2</th>\n",
       "      <td>1234241890700218370</td>\n",
       "      <td>enigma4ever 🌹🆘 🌊 🕊️🍑👩‍⚕️💉😷</td>\n",
       "      <td>humour..snl...on #covid #coronavirususahttps:/...</td>\n",
       "      <td>2020-03-01 22:19:32</td>\n",
       "      <td>COVID</td>\n",
       "      <td>Brooklyn</td>\n",
       "      <td>40.650002</td>\n",
       "      <td>-73.949997</td>\n",
       "      <td>10mi</td>\n",
       "      <td>2020-02-01</td>\n",
       "      <td>humoursnlon covid coronavirususa</td>\n",
       "      <td>[humoursnlon, covid, coronavirususa]</td>\n",
       "    </tr>\n",
       "    <tr>\n",
       "      <th>3</th>\n",
       "      <td>1234238588474331136</td>\n",
       "      <td>° ° °</td>\n",
       "      <td>had to go to three diff convenient stores to f...</td>\n",
       "      <td>2020-03-01 22:06:25</td>\n",
       "      <td>COVID</td>\n",
       "      <td>Brooklyn</td>\n",
       "      <td>40.650002</td>\n",
       "      <td>-73.949997</td>\n",
       "      <td>10mi</td>\n",
       "      <td>2020-02-01</td>\n",
       "      <td>had to go to three diff convenient stores to f...</td>\n",
       "      <td>[go, three, diff, convenient, stores, find, re...</td>\n",
       "    </tr>\n",
       "    <tr>\n",
       "      <th>4</th>\n",
       "      <td>1234238537068883968</td>\n",
       "      <td>enigma4ever 🌹🆘 🌊 🕊️🍑👩‍⚕️💉😷</td>\n",
       "      <td>#covid #coronovirius in nursing home setting ,...</td>\n",
       "      <td>2020-03-01 22:06:12</td>\n",
       "      <td>COVID</td>\n",
       "      <td>Brooklyn</td>\n",
       "      <td>40.650002</td>\n",
       "      <td>-73.949997</td>\n",
       "      <td>10mi</td>\n",
       "      <td>2020-02-01</td>\n",
       "      <td>covid coronovirius in nursing home setting  ki...</td>\n",
       "      <td>[covid, coronovirius, nursing, home, setting, ...</td>\n",
       "    </tr>\n",
       "  </tbody>\n",
       "</table>\n",
       "</div>"
      ],
      "text/plain": [
       "              tweet_id                    username  \\\n",
       "0  1234258409408602118                      e.p.c.   \n",
       "1  1234253374725459968                  @geminiwoe   \n",
       "2  1234241890700218370  enigma4ever 🌹🆘 🌊 🕊️🍑👩‍⚕️💉😷   \n",
       "3  1234238588474331136                       ° ° °   \n",
       "4  1234238537068883968  enigma4ever 🌹🆘 🌊 🕊️🍑👩‍⚕️💉😷   \n",
       "\n",
       "                                                text           tweet_date  \\\n",
       "0  did the first of several shopping runs, though...  2020-03-01 23:25:10   \n",
       "1  looks like adios muchachos for the us #covid #...  2020-03-01 23:05:10   \n",
       "2  humour..snl...on #covid #coronavirususahttps:/...  2020-03-01 22:19:32   \n",
       "3  had to go to three diff convenient stores to f...  2020-03-01 22:06:25   \n",
       "4  #covid #coronovirius in nursing home setting ,...  2020-03-01 22:06:12   \n",
       "\n",
       "  search_term      city        lat       long radius query_start  \\\n",
       "0       COVID  Brooklyn  40.650002 -73.949997   10mi  2020-02-01   \n",
       "1       COVID  Brooklyn  40.650002 -73.949997   10mi  2020-02-01   \n",
       "2       COVID  Brooklyn  40.650002 -73.949997   10mi  2020-02-01   \n",
       "3       COVID  Brooklyn  40.650002 -73.949997   10mi  2020-02-01   \n",
       "4       COVID  Brooklyn  40.650002 -73.949997   10mi  2020-02-01   \n",
       "\n",
       "                                          token_text  \\\n",
       "0  did the first of several shopping runs though ...   \n",
       "1  looks like adios muchachos for the us covid co...   \n",
       "2                   humoursnlon covid coronavirususa   \n",
       "3  had to go to three diff convenient stores to f...   \n",
       "4  covid coronovirius in nursing home setting  ki...   \n",
       "\n",
       "                                           stop_text  \n",
       "0  [first, several, shopping, runs, though, ended...  \n",
       "1  [looks, like, adios, muchachos, us, covid, cov...  \n",
       "2               [humoursnlon, covid, coronavirususa]  \n",
       "3  [go, three, diff, convenient, stores, find, re...  \n",
       "4  [covid, coronovirius, nursing, home, setting, ...  "
      ]
     },
     "execution_count": 25,
     "metadata": {},
     "output_type": "execute_result"
    }
   ],
   "source": [
    "clean_og_df.head()"
   ]
  },
  {
   "cell_type": "markdown",
   "metadata": {},
   "source": [
    "### Model Preparation"
   ]
  },
  {
   "cell_type": "code",
   "execution_count": 26,
   "metadata": {},
   "outputs": [],
   "source": [
    "#X = tweet_w2v[tweet_w2v.wv.vocab]\n",
    "X = clean_vec_df"
   ]
  },
  {
   "cell_type": "markdown",
   "metadata": {},
   "source": [
    "### Modeling"
   ]
  },
  {
   "cell_type": "markdown",
   "metadata": {},
   "source": [
    "#### K-Means "
   ]
  },
  {
   "cell_type": "markdown",
   "metadata": {},
   "source": [
    "##### K Means Clustering with NLTK Library"
   ]
  },
  {
   "cell_type": "code",
   "execution_count": 28,
   "metadata": {},
   "outputs": [],
   "source": [
    "# NUM_CLUSTERS=4\n",
    "# kclusterer = KMeansClusterer(NUM_CLUSTERS, \n",
    "#                              distance=nltk.cluster.util.cosine_distance,\n",
    "#                              avoid_empty_clusters=True,\n",
    "#                              repeats=25)\n",
    "# assigned_clusters = kclusterer.cluster(X, assign_clusters=True)"
   ]
  },
  {
   "cell_type": "code",
   "execution_count": 29,
   "metadata": {
    "scrolled": true
   },
   "outputs": [],
   "source": [
    "# words = list(tweet_w2v.wv.vocab)\n",
    "# for i, word in enumerate(words):\n",
    "#     print (str(word + \":\" + str(assigned_clusters[i]))"
   ]
  },
  {
   "cell_type": "markdown",
   "metadata": {},
   "source": [
    "##### K Means Clustering with Scikit-learn Library"
   ]
  },
  {
   "cell_type": "code",
   "execution_count": 39,
   "metadata": {
    "scrolled": false
   },
   "outputs": [
    {
     "data": {
      "image/png": "[encoded data removed]",
      "text/plain": [
       "<Figure size 432x288 with 1 Axes>"
      ]
     },
     "metadata": {
      "needs_background": "light"
     },
     "output_type": "display_data"
    }
   ],
   "source": [
    "# #Fit a k-means clustering model\n",
    "# km = KMeans(n_clusters= NUM_CLUSTERS,\n",
    "#             random_state=2020)\n",
    "# #fitting model\n",
    "# km.fit(X)\n",
    "\n",
    "#within cluster sum of squares(wcss)\n",
    "wcss = []\n",
    "for i in range(1, 10):\n",
    "    kmeans = KMeans(n_clusters = i, init='k-means++',\n",
    "                    n_init=10,\n",
    "                   random_state= RANDOM_STATE)\n",
    "    kmeans.fit(X)\n",
    "    wcss.append(kmeans.inertia_)\n",
    "    \n",
    "plt.plot(range(1,10), wcss)\n",
    "plt.title('The Elbow Method')\n",
    "plt.xlabel(\"Number of clusters\")\n",
    "plt.ylabel('WCSS')\n",
    "plt.show()"
   ]
  },
  {
   "cell_type": "code",
   "execution_count": 45,
   "metadata": {},
   "outputs": [],
   "source": [
    "clean_og_df['KMeans_cluster'] = kmeans.labels_"
   ]
  },
  {
   "cell_type": "code",
   "execution_count": 46,
   "metadata": {
    "scrolled": true
   },
   "outputs": [
    {
     "data": {
      "text/plain": [
       "2    57712\n",
       "3    15301\n",
       "6    13291\n",
       "1     6544\n",
       "5     6146\n",
       "8     4277\n",
       "4     2002\n",
       "7     1487\n",
       "0     1039\n",
       "Name: KMeans_cluster, dtype: int64"
      ]
     },
     "execution_count": 46,
     "metadata": {},
     "output_type": "execute_result"
    }
   ],
   "source": [
    "clean_og_df['KMeans_cluster'].value_counts()"
   ]
  },
  {
   "cell_type": "code",
   "execution_count": 50,
   "metadata": {},
   "outputs": [],
   "source": [
    "mask = clean_og_df['KMeans_cluster'] == 3"
   ]
  },
  {
   "cell_type": "code",
   "execution_count": 51,
   "metadata": {},
   "outputs": [
    {
     "data": {
      "text/html": [
       "<div>\n",
       "<style scoped>\n",
       "    .dataframe tbody tr th:only-of-type {\n",
       "        vertical-align: middle;\n",
       "    }\n",
       "\n",
       "    .dataframe tbody tr th {\n",
       "        vertical-align: top;\n",
       "    }\n",
       "\n",
       "    .dataframe thead th {\n",
       "        text-align: right;\n",
       "    }\n",
       "</style>\n",
       "<table border=\"1\" class=\"dataframe\">\n",
       "  <thead>\n",
       "    <tr style=\"text-align: right;\">\n",
       "      <th></th>\n",
       "      <th>tweet_id</th>\n",
       "      <th>username</th>\n",
       "      <th>text</th>\n",
       "      <th>tweet_date</th>\n",
       "      <th>search_term</th>\n",
       "      <th>city</th>\n",
       "      <th>lat</th>\n",
       "      <th>long</th>\n",
       "      <th>radius</th>\n",
       "      <th>query_start</th>\n",
       "      <th>token_text</th>\n",
       "      <th>stop_text</th>\n",
       "      <th>cluster</th>\n",
       "      <th>KMeans_cluster</th>\n",
       "    </tr>\n",
       "  </thead>\n",
       "  <tbody>\n",
       "    <tr>\n",
       "      <th>113929</th>\n",
       "      <td>1254484714645266432</td>\n",
       "      <td>LI Sports Fan</td>\n",
       "      <td>yikes!  that is definitely not social distanci...</td>\n",
       "      <td>2020-04-26 18:57:17</td>\n",
       "      <td>COVID</td>\n",
       "      <td>NYC</td>\n",
       "      <td>40.9634</td>\n",
       "      <td>-72.1848</td>\n",
       "      <td>35mi</td>\n",
       "      <td>2020-01-01</td>\n",
       "      <td>yikes  that is definitely not social distancin...</td>\n",
       "      <td>[yikes, definitely, social, distancing, dont, ...</td>\n",
       "      <td>-1</td>\n",
       "      <td>3</td>\n",
       "    </tr>\n",
       "    <tr>\n",
       "      <th>113937</th>\n",
       "      <td>1253816667160875012</td>\n",
       "      <td>Ide M Koulbanis</td>\n",
       "      <td>thank you @alanbetson for this! i look forward...</td>\n",
       "      <td>2020-04-24 22:42:42</td>\n",
       "      <td>COVID</td>\n",
       "      <td>NYC</td>\n",
       "      <td>40.9634</td>\n",
       "      <td>-72.1848</td>\n",
       "      <td>35mi</td>\n",
       "      <td>2020-01-01</td>\n",
       "      <td>thank you alanbetson for this i look forward t...</td>\n",
       "      <td>[thank, alanbetson, look, forward, reading, se...</td>\n",
       "      <td>8195</td>\n",
       "      <td>3</td>\n",
       "    </tr>\n",
       "    <tr>\n",
       "      <th>113982</th>\n",
       "      <td>1251958285487439872</td>\n",
       "      <td>Tommy D. Monroe</td>\n",
       "      <td>another vicious problem solved by wonderful co...</td>\n",
       "      <td>2020-04-19 19:38:10</td>\n",
       "      <td>COVID</td>\n",
       "      <td>NYC</td>\n",
       "      <td>40.9634</td>\n",
       "      <td>-72.1848</td>\n",
       "      <td>35mi</td>\n",
       "      <td>2020-01-01</td>\n",
       "      <td>another vicious problem solved by wonderful co...</td>\n",
       "      <td>[another, vicious, problem, solved, wonderful,...</td>\n",
       "      <td>8668</td>\n",
       "      <td>3</td>\n",
       "    </tr>\n",
       "    <tr>\n",
       "      <th>113989</th>\n",
       "      <td>1251847865133129728</td>\n",
       "      <td>Xanax! At The Disco</td>\n",
       "      <td>a helpful update to that book you insist on us...</td>\n",
       "      <td>2020-04-19 12:19:23</td>\n",
       "      <td>COVID</td>\n",
       "      <td>NYC</td>\n",
       "      <td>40.9634</td>\n",
       "      <td>-72.1848</td>\n",
       "      <td>35mi</td>\n",
       "      <td>2020-01-01</td>\n",
       "      <td>a helpful update to that book you insist on us...</td>\n",
       "      <td>[helpful, update, book, insist, using, instead...</td>\n",
       "      <td>8677</td>\n",
       "      <td>3</td>\n",
       "    </tr>\n",
       "    <tr>\n",
       "      <th>114022</th>\n",
       "      <td>1250923991801434113</td>\n",
       "      <td>Mr. Ankrum</td>\n",
       "      <td>dear @joebiden im a #republican whose 100% goi...</td>\n",
       "      <td>2020-04-16 23:08:15</td>\n",
       "      <td>COVID</td>\n",
       "      <td>NYC</td>\n",
       "      <td>40.9634</td>\n",
       "      <td>-72.1848</td>\n",
       "      <td>35mi</td>\n",
       "      <td>2020-01-01</td>\n",
       "      <td>dear joebiden im a republican whose 100 going ...</td>\n",
       "      <td>[dear, joebiden, im, republican, whose, 100, g...</td>\n",
       "      <td>8476</td>\n",
       "      <td>3</td>\n",
       "    </tr>\n",
       "  </tbody>\n",
       "</table>\n",
       "</div>"
      ],
      "text/plain": [
       "                   tweet_id             username  \\\n",
       "113929  1254484714645266432        LI Sports Fan   \n",
       "113937  1253816667160875012      Ide M Koulbanis   \n",
       "113982  1251958285487439872      Tommy D. Monroe   \n",
       "113989  1251847865133129728  Xanax! At The Disco   \n",
       "114022  1250923991801434113           Mr. Ankrum   \n",
       "\n",
       "                                                     text  \\\n",
       "113929  yikes!  that is definitely not social distanci...   \n",
       "113937  thank you @alanbetson for this! i look forward...   \n",
       "113982  another vicious problem solved by wonderful co...   \n",
       "113989  a helpful update to that book you insist on us...   \n",
       "114022  dear @joebiden im a #republican whose 100% goi...   \n",
       "\n",
       "                 tweet_date search_term city      lat     long radius  \\\n",
       "113929  2020-04-26 18:57:17       COVID  NYC  40.9634 -72.1848   35mi   \n",
       "113937  2020-04-24 22:42:42       COVID  NYC  40.9634 -72.1848   35mi   \n",
       "113982  2020-04-19 19:38:10       COVID  NYC  40.9634 -72.1848   35mi   \n",
       "113989  2020-04-19 12:19:23       COVID  NYC  40.9634 -72.1848   35mi   \n",
       "114022  2020-04-16 23:08:15       COVID  NYC  40.9634 -72.1848   35mi   \n",
       "\n",
       "       query_start                                         token_text  \\\n",
       "113929  2020-01-01  yikes  that is definitely not social distancin...   \n",
       "113937  2020-01-01  thank you alanbetson for this i look forward t...   \n",
       "113982  2020-01-01  another vicious problem solved by wonderful co...   \n",
       "113989  2020-01-01  a helpful update to that book you insist on us...   \n",
       "114022  2020-01-01  dear joebiden im a republican whose 100 going ...   \n",
       "\n",
       "                                                stop_text  cluster  \\\n",
       "113929  [yikes, definitely, social, distancing, dont, ...       -1   \n",
       "113937  [thank, alanbetson, look, forward, reading, se...     8195   \n",
       "113982  [another, vicious, problem, solved, wonderful,...     8668   \n",
       "113989  [helpful, update, book, insist, using, instead...     8677   \n",
       "114022  [dear, joebiden, im, republican, whose, 100, g...     8476   \n",
       "\n",
       "        KMeans_cluster  \n",
       "113929               3  \n",
       "113937               3  \n",
       "113982               3  \n",
       "113989               3  \n",
       "114022               3  "
      ]
     },
     "execution_count": 51,
     "metadata": {},
     "output_type": "execute_result"
    }
   ],
   "source": [
    "clean_og_df[mask].tail()"
   ]
  },
  {
   "cell_type": "code",
   "execution_count": 42,
   "metadata": {},
   "outputs": [
    {
     "data": {
      "text/plain": [
       "array([[-5.41738490e-05, -1.30921093e-04, -1.36516817e-04, ...,\n",
       "         1.77901519e-04, -1.91387580e-04, -1.09623672e-04],\n",
       "       [ 7.01956933e-05,  6.78069779e-05,  3.78541714e-05, ...,\n",
       "         5.30208049e-05,  1.64560771e-05, -4.82116981e-05],\n",
       "       [ 4.25685185e-05,  1.40962395e-05,  7.45946206e-06, ...,\n",
       "         9.06921974e-06, -2.40479452e-05,  1.85731664e-05],\n",
       "       ...,\n",
       "       [ 1.88349393e-05, -3.43577448e-05, -1.90606699e-05, ...,\n",
       "         5.51563813e-05, -5.51784895e-05, -2.53698424e-05],\n",
       "       [ 4.94859315e-05,  1.77109199e-05,  3.06019202e-04, ...,\n",
       "         1.27386959e-04, -3.63023229e-04, -4.77339157e-05],\n",
       "       [ 1.30705316e-04, -7.24790590e-05,  5.88623261e-05, ...,\n",
       "        -7.72272953e-05,  3.55942351e-07,  2.57347128e-06]])"
      ]
     },
     "execution_count": 42,
     "metadata": {},
     "output_type": "execute_result"
    }
   ],
   "source": [
    "kmeans.cluster_centers_"
   ]
  },
  {
   "cell_type": "code",
   "execution_count": 32,
   "metadata": {},
   "outputs": [
    {
     "name": "stdout",
     "output_type": "stream",
     "text": [
      "Inertia:  1.2090908241165\n"
     ]
    }
   ],
   "source": [
    "#sum of squared errors for each cluster.\n",
    "print(\"Inertia: \", kmeans.inertia_)"
   ]
  },
  {
   "cell_type": "code",
   "execution_count": 33,
   "metadata": {},
   "outputs": [
    {
     "name": "stdout",
     "output_type": "stream",
     "text": [
      "Silhouette Score:  0.16655744723263222\n"
     ]
    }
   ],
   "source": [
    "#Silhouette Score\n",
    "print(\"Silhouette Score: \", silhouette_score(X, kmeans.labels_))"
   ]
  },
  {
   "cell_type": "markdown",
   "metadata": {},
   "source": [
    "#### DBSCAN"
   ]
  },
  {
   "cell_type": "code",
   "execution_count": 34,
   "metadata": {},
   "outputs": [],
   "source": [
    "dbscan = DBSCAN(metric='cosine', \n",
    "                eps=0.01, \n",
    "                min_samples=3, \n",
    "                n_jobs = 1) \n",
    "cluster_labels = dbscan.fit_predict(X) "
   ]
  },
  {
   "cell_type": "code",
   "execution_count": 35,
   "metadata": {},
   "outputs": [
    {
     "name": "stdout",
     "output_type": "stream",
     "text": [
      "Silhoutte Score :  0.2619705580008748\n"
     ]
    }
   ],
   "source": [
    "print(\"Silhoutte Score : \", silhouette_score(X, dbscan.labels_))"
   ]
  },
  {
   "cell_type": "code",
   "execution_count": 44,
   "metadata": {},
   "outputs": [],
   "source": [
    "clean_og_df['cluster'] = cluster_labels"
   ]
  },
  {
   "cell_type": "code",
   "execution_count": 37,
   "metadata": {},
   "outputs": [
    {
     "data": {
      "text/plain": [
       "-1       60577\n",
       " 16        577\n",
       " 4713      322\n",
       " 177       120\n",
       " 1062      108\n",
       "         ...  \n",
       " 8692        3\n",
       " 7638        3\n",
       " 2609        3\n",
       " 6707        3\n",
       " 6841        3\n",
       "Name: cluster, Length: 8776, dtype: int64"
      ]
     },
     "execution_count": 37,
     "metadata": {},
     "output_type": "execute_result"
    }
   ],
   "source": [
    "clean_og_df['cluster'].value_counts()"
   ]
  },
  {
   "cell_type": "code",
   "execution_count": 38,
   "metadata": {},
   "outputs": [
    {
     "data": {
      "text/html": [
       "<div>\n",
       "<style scoped>\n",
       "    .dataframe tbody tr th:only-of-type {\n",
       "        vertical-align: middle;\n",
       "    }\n",
       "\n",
       "    .dataframe tbody tr th {\n",
       "        vertical-align: top;\n",
       "    }\n",
       "\n",
       "    .dataframe thead th {\n",
       "        text-align: right;\n",
       "    }\n",
       "</style>\n",
       "<table border=\"1\" class=\"dataframe\">\n",
       "  <thead>\n",
       "    <tr style=\"text-align: right;\">\n",
       "      <th></th>\n",
       "      <th>tweet_id</th>\n",
       "      <th>username</th>\n",
       "      <th>text</th>\n",
       "      <th>tweet_date</th>\n",
       "      <th>search_term</th>\n",
       "      <th>city</th>\n",
       "      <th>lat</th>\n",
       "      <th>long</th>\n",
       "      <th>radius</th>\n",
       "      <th>query_start</th>\n",
       "      <th>token_text</th>\n",
       "      <th>stop_text</th>\n",
       "      <th>cluster</th>\n",
       "    </tr>\n",
       "  </thead>\n",
       "  <tbody>\n",
       "    <tr>\n",
       "      <th>0</th>\n",
       "      <td>1234258409408602118</td>\n",
       "      <td>e.p.c.</td>\n",
       "      <td>did the first of several shopping runs, though...</td>\n",
       "      <td>2020-03-01 23:25:10</td>\n",
       "      <td>COVID</td>\n",
       "      <td>Brooklyn</td>\n",
       "      <td>40.650002</td>\n",
       "      <td>-73.949997</td>\n",
       "      <td>10mi</td>\n",
       "      <td>2020-02-01</td>\n",
       "      <td>did the first of several shopping runs though ...</td>\n",
       "      <td>[first, several, shopping, runs, though, ended...</td>\n",
       "      <td>0</td>\n",
       "    </tr>\n",
       "    <tr>\n",
       "      <th>1</th>\n",
       "      <td>1234253374725459968</td>\n",
       "      <td>@geminiwoe</td>\n",
       "      <td>looks like adios muchachos for the us #covid #...</td>\n",
       "      <td>2020-03-01 23:05:10</td>\n",
       "      <td>COVID</td>\n",
       "      <td>Brooklyn</td>\n",
       "      <td>40.650002</td>\n",
       "      <td>-73.949997</td>\n",
       "      <td>10mi</td>\n",
       "      <td>2020-02-01</td>\n",
       "      <td>looks like adios muchachos for the us covid co...</td>\n",
       "      <td>[looks, like, adios, muchachos, us, covid, cov...</td>\n",
       "      <td>1</td>\n",
       "    </tr>\n",
       "    <tr>\n",
       "      <th>2</th>\n",
       "      <td>1234241890700218370</td>\n",
       "      <td>enigma4ever 🌹🆘 🌊 🕊️🍑👩‍⚕️💉😷</td>\n",
       "      <td>humour..snl...on #covid #coronavirususahttps:/...</td>\n",
       "      <td>2020-03-01 22:19:32</td>\n",
       "      <td>COVID</td>\n",
       "      <td>Brooklyn</td>\n",
       "      <td>40.650002</td>\n",
       "      <td>-73.949997</td>\n",
       "      <td>10mi</td>\n",
       "      <td>2020-02-01</td>\n",
       "      <td>humoursnlon covid coronavirususa</td>\n",
       "      <td>[humoursnlon, covid, coronavirususa]</td>\n",
       "      <td>2</td>\n",
       "    </tr>\n",
       "    <tr>\n",
       "      <th>3</th>\n",
       "      <td>1234238588474331136</td>\n",
       "      <td>° ° °</td>\n",
       "      <td>had to go to three diff convenient stores to f...</td>\n",
       "      <td>2020-03-01 22:06:25</td>\n",
       "      <td>COVID</td>\n",
       "      <td>Brooklyn</td>\n",
       "      <td>40.650002</td>\n",
       "      <td>-73.949997</td>\n",
       "      <td>10mi</td>\n",
       "      <td>2020-02-01</td>\n",
       "      <td>had to go to three diff convenient stores to f...</td>\n",
       "      <td>[go, three, diff, convenient, stores, find, re...</td>\n",
       "      <td>3</td>\n",
       "    </tr>\n",
       "    <tr>\n",
       "      <th>4</th>\n",
       "      <td>1234238537068883968</td>\n",
       "      <td>enigma4ever 🌹🆘 🌊 🕊️🍑👩‍⚕️💉😷</td>\n",
       "      <td>#covid #coronovirius in nursing home setting ,...</td>\n",
       "      <td>2020-03-01 22:06:12</td>\n",
       "      <td>COVID</td>\n",
       "      <td>Brooklyn</td>\n",
       "      <td>40.650002</td>\n",
       "      <td>-73.949997</td>\n",
       "      <td>10mi</td>\n",
       "      <td>2020-02-01</td>\n",
       "      <td>covid coronovirius in nursing home setting  ki...</td>\n",
       "      <td>[covid, coronovirius, nursing, home, setting, ...</td>\n",
       "      <td>4</td>\n",
       "    </tr>\n",
       "  </tbody>\n",
       "</table>\n",
       "</div>"
      ],
      "text/plain": [
       "              tweet_id                    username  \\\n",
       "0  1234258409408602118                      e.p.c.   \n",
       "1  1234253374725459968                  @geminiwoe   \n",
       "2  1234241890700218370  enigma4ever 🌹🆘 🌊 🕊️🍑👩‍⚕️💉😷   \n",
       "3  1234238588474331136                       ° ° °   \n",
       "4  1234238537068883968  enigma4ever 🌹🆘 🌊 🕊️🍑👩‍⚕️💉😷   \n",
       "\n",
       "                                                text           tweet_date  \\\n",
       "0  did the first of several shopping runs, though...  2020-03-01 23:25:10   \n",
       "1  looks like adios muchachos for the us #covid #...  2020-03-01 23:05:10   \n",
       "2  humour..snl...on #covid #coronavirususahttps:/...  2020-03-01 22:19:32   \n",
       "3  had to go to three diff convenient stores to f...  2020-03-01 22:06:25   \n",
       "4  #covid #coronovirius in nursing home setting ,...  2020-03-01 22:06:12   \n",
       "\n",
       "  search_term      city        lat       long radius query_start  \\\n",
       "0       COVID  Brooklyn  40.650002 -73.949997   10mi  2020-02-01   \n",
       "1       COVID  Brooklyn  40.650002 -73.949997   10mi  2020-02-01   \n",
       "2       COVID  Brooklyn  40.650002 -73.949997   10mi  2020-02-01   \n",
       "3       COVID  Brooklyn  40.650002 -73.949997   10mi  2020-02-01   \n",
       "4       COVID  Brooklyn  40.650002 -73.949997   10mi  2020-02-01   \n",
       "\n",
       "                                          token_text  \\\n",
       "0  did the first of several shopping runs though ...   \n",
       "1  looks like adios muchachos for the us covid co...   \n",
       "2                   humoursnlon covid coronavirususa   \n",
       "3  had to go to three diff convenient stores to f...   \n",
       "4  covid coronovirius in nursing home setting  ki...   \n",
       "\n",
       "                                           stop_text  cluster  \n",
       "0  [first, several, shopping, runs, though, ended...        0  \n",
       "1  [looks, like, adios, muchachos, us, covid, cov...        1  \n",
       "2               [humoursnlon, covid, coronavirususa]        2  \n",
       "3  [go, three, diff, convenient, stores, find, re...        3  \n",
       "4  [covid, coronovirius, nursing, home, setting, ...        4  "
      ]
     },
     "execution_count": 38,
     "metadata": {},
     "output_type": "execute_result"
    }
   ],
   "source": [
    "clean_og_df.head(5)"
   ]
  },
  {
   "cell_type": "markdown",
   "metadata": {},
   "source": [
    "### Model Evaluation"
   ]
  },
  {
   "cell_type": "markdown",
   "metadata": {},
   "source": [
    "### Conclusions and Recommendations"
   ]
  },
  {
   "cell_type": "markdown",
   "metadata": {},
   "source": [
    "### References"
   ]
  },
  {
   "cell_type": "code",
   "execution_count": null,
   "metadata": {},
   "outputs": [],
   "source": []
  },
  {
   "cell_type": "code",
   "execution_count": null,
   "metadata": {},
   "outputs": [],
   "source": []
  }
 ],
 "metadata": {
  "kernelspec": {
   "display_name": "Python 3",
   "language": "python",
   "name": "python3"
  },
  "language_info": {
   "codemirror_mode": {
    "name": "ipython",
    "version": 3
   },
   "file_extension": ".py",
   "mimetype": "text/x-python",
   "name": "python",
   "nbconvert_exporter": "python",
   "pygments_lexer": "ipython3",
   "version": "3.7.6"
  }
 },
 "nbformat": 4,
 "nbformat_minor": 4
}
