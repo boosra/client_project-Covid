{
 "cells": [
  {
   "cell_type": "markdown",
   "metadata": {},
   "source": [
    "## Contents:"
   ]
  },
  {
   "cell_type": "markdown",
   "metadata": {},
   "source": [
    "- **[Import Libraries](#Import-Libraries)**.  \n",
    "    \n",
    "- **[Data Cleaning & EDA](#Data-Cleaning-Exploratory-Data-Analysis)**.  \n",
    "\n",
    "- **[Model Preparation](#Model-Preparation)**. \n",
    "\n",
    " - **[Modeling](#Modeling)**.  \n",
    "   - **[Baseline Model](#Baseline-Model)**. \n",
    "   - **[DBSCAN](#DBSCAN)**.  \n",
    "   - **[K-Means](#K-Means)**.  \n",
    "   \n",
    "- **[Model Evaluation](#Model-Evaluation)**.  \n",
    "\n",
    "- **[Conclusions and Recommendations](#Conclusions-and-Recommendations)**.  \n",
    "\n",
    "- **[References](#References)**."
   ]
  },
  {
   "cell_type": "markdown",
   "metadata": {},
   "source": [
    "### Importing Libraries"
   ]
  },
  {
   "cell_type": "code",
   "execution_count": 5,
   "metadata": {},
   "outputs": [],
   "source": [
    "import warnings\n",
    "warnings.filterwarnings(\"ignore\")\n",
    "\n",
    "\n",
    "import pandas as pd\n",
    "import numpy as np\n",
    "import matplotlib.pyplot as plt\n",
    "import seaborn as sns\n",
    "\n",
    "from sklearn.preprocessing import StandardScaler\n",
    "from sklearn.cluster import DBSCAN , KMeans\n",
    "from sklearn.metrics import silhouette_score\n",
    "from sklearn.model_selection import train_test_split\n",
    "\n",
    "#from sklearn.datasets import make_blobs\n",
    "#from sklearn.linear_model import LogisticRegression\n",
    "#from sklearn.decomposition import PCA\n",
    "\n",
    "RANDOM_STATE = 7777\n",
    "%matplotlib inline\n"
   ]
  },
  {
   "cell_type": "markdown",
   "metadata": {},
   "source": [
    "### Model Preparation"
   ]
  },
  {
   "cell_type": "code",
   "execution_count": null,
   "metadata": {},
   "outputs": [],
   "source": [
    "X = \n",
    "y = "
   ]
  },
  {
   "cell_type": "code",
   "execution_count": null,
   "metadata": {},
   "outputs": [],
   "source": [
    "#Train-test-split\n",
    "X_train, X_test, y_train, y_test = train_test_split(X, y, random_state = RANDOM_STATE)"
   ]
  },
  {
   "cell_type": "code",
   "execution_count": null,
   "metadata": {},
   "outputs": [],
   "source": [
    "#scale our data \n",
    "ss = StandardScaler()\n",
    "\n",
    "#fit and transform Data\n",
    "X_train_ss = ss.fit_transform(X_train)\n",
    "X_test_ss = ss.transform(X_test)"
   ]
  },
  {
   "cell_type": "markdown",
   "metadata": {},
   "source": [
    "### Modeling"
   ]
  },
  {
   "cell_type": "markdown",
   "metadata": {},
   "source": [
    "#### Baseline Model"
   ]
  },
  {
   "cell_type": "code",
   "execution_count": null,
   "metadata": {},
   "outputs": [],
   "source": [
    "# # instantiate DummyClassifier\n",
    "# dummy = DummyClassifier(strategy=\"most_frequent\")\n",
    "# dummy.fit(X_train, y_train)\n",
    "\n",
    "# # score on test\n",
    "# print('Test Score:', dummy.score(X_test, y_test))\n",
    "\n",
    "# # score on train\n",
    "# print('Train Score:', dummy.score(X_train, y_train))\n",
    "\n",
    "# # score on cross val\n",
    "# print('Cross Val Score:', cross_val_score(dummy, X, y, cv =5).mean())"
   ]
  },
  {
   "cell_type": "markdown",
   "metadata": {},
   "source": []
  },
  {
   "cell_type": "code",
   "execution_count": null,
   "metadata": {},
   "outputs": [],
   "source": [
    "# # Instantiate PCA & logisticRegression\n",
    "# pca = PCA(random_state=RANDOM_STATE)\n",
    "# lr_pca = LogisticRegression(random_state=RANDOM_STATE)\n",
    "\n",
    "# # Get PC's by applying transformer on data\n",
    "# Z_train = pca.fit_transform(X_train_ss)\n",
    "# Z_test  = pca.transform(X_test_ss)\n",
    "\n",
    "# #fitting model\n",
    "# lr_pca.fit(Z_train, y_train)\n",
    "\n",
    "# print('lr_pca Score:',lr_pca.score(Z_test, y_test))"
   ]
  },
  {
   "cell_type": "code",
   "execution_count": null,
   "metadata": {},
   "outputs": [],
   "source": [
    "#scaling \n",
    "ss = StandardScaler()\n",
    "X_scaled = ss.fit_transform(df)"
   ]
  },
  {
   "cell_type": "markdown",
   "metadata": {},
   "source": [
    "#### DBSCAN"
   ]
  },
  {
   "cell_type": "code",
   "execution_count": null,
   "metadata": {},
   "outputs": [],
   "source": [
    "dbscan = DBSCAN(eps = [.5, .65, .8],\n",
    "               min_samples= [5, 10, 20]\n",
    "               ) \n",
    "\n",
    "dbscan.fit(X_scaled);"
   ]
  },
  {
   "cell_type": "code",
   "execution_count": null,
   "metadata": {},
   "outputs": [],
   "source": [
    "print(\"Silhoutte Score : \", silhouette_score(X_scaled, dbscan.labels_))"
   ]
  },
  {
   "cell_type": "markdown",
   "metadata": {},
   "source": [
    "#### K-Means "
   ]
  },
  {
   "cell_type": "code",
   "execution_count": null,
   "metadata": {},
   "outputs": [],
   "source": [
    "#Fit a k-means clustering model\n",
    "km = KMeans(n_clusters= [3,5,10,15], \n",
    "            n_init= [10, 20, 30],\n",
    "            max_iter= [300, 400, 500],\n",
    "            random_state=2020)\n",
    "#fitting model\n",
    "km.fit(X_scaled)"
   ]
  },
  {
   "cell_type": "code",
   "execution_count": null,
   "metadata": {},
   "outputs": [],
   "source": [
    "#sum of squared errors for each cluster.\n",
    "print(\"Inertia: \", km.inertia_)\n",
    "\n",
    "#Silhouette Score\n",
    "print(\"Silhouette Score: \", silhouette_score(X_scaled, km.labels_))"
   ]
  },
  {
   "cell_type": "markdown",
   "metadata": {},
   "source": [
    "### Model Evaluation"
   ]
  },
  {
   "cell_type": "markdown",
   "metadata": {},
   "source": [
    "### Conclusions and Recommendations"
   ]
  },
  {
   "cell_type": "markdown",
   "metadata": {},
   "source": [
    "### References"
   ]
  },
  {
   "cell_type": "code",
   "execution_count": null,
   "metadata": {},
   "outputs": [],
   "source": []
  },
  {
   "cell_type": "code",
   "execution_count": null,
   "metadata": {},
   "outputs": [],
   "source": []
  }
 ],
 "metadata": {
  "kernelspec": {
   "display_name": "Python 3",
   "language": "python",
   "name": "python3"
  },
  "language_info": {
   "codemirror_mode": {
    "name": "ipython",
    "version": 3
   },
   "file_extension": ".py",
   "mimetype": "text/x-python",
   "name": "python",
   "nbconvert_exporter": "python",
   "pygments_lexer": "ipython3",
   "version": "3.7.6"
  }
 },
 "nbformat": 4,
 "nbformat_minor": 4
}
