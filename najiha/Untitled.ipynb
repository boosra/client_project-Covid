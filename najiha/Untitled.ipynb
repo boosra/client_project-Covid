{
 "cells": [
  {
   "cell_type": "code",
   "execution_count": 2,
   "metadata": {},
   "outputs": [
    {
     "name": "stdout",
     "output_type": "stream",
     "text": [
      "Collecting tweepy\n",
      "  Downloading tweepy-3.8.0-py2.py3-none-any.whl (28 kB)\n",
      "Requirement already satisfied: requests>=2.11.1 in /Users/najihafatemaboosra/opt/anaconda3/lib/python3.7/site-packages (from tweepy) (2.22.0)\n",
      "Requirement already satisfied: six>=1.10.0 in /Users/najihafatemaboosra/opt/anaconda3/lib/python3.7/site-packages (from tweepy) (1.14.0)\n",
      "Requirement already satisfied: PySocks>=1.5.7 in /Users/najihafatemaboosra/opt/anaconda3/lib/python3.7/site-packages (from tweepy) (1.7.1)\n",
      "Collecting requests-oauthlib>=0.7.0\n",
      "  Downloading requests_oauthlib-1.3.0-py2.py3-none-any.whl (23 kB)\n",
      "Requirement already satisfied: chardet<3.1.0,>=3.0.2 in /Users/najihafatemaboosra/opt/anaconda3/lib/python3.7/site-packages (from requests>=2.11.1->tweepy) (3.0.4)\n",
      "Requirement already satisfied: urllib3!=1.25.0,!=1.25.1,<1.26,>=1.21.1 in /Users/najihafatemaboosra/opt/anaconda3/lib/python3.7/site-packages (from requests>=2.11.1->tweepy) (1.25.8)\n",
      "Requirement already satisfied: certifi>=2017.4.17 in /Users/najihafatemaboosra/opt/anaconda3/lib/python3.7/site-packages (from requests>=2.11.1->tweepy) (2019.11.28)\n",
      "Requirement already satisfied: idna<2.9,>=2.5 in /Users/najihafatemaboosra/opt/anaconda3/lib/python3.7/site-packages (from requests>=2.11.1->tweepy) (2.8)\n",
      "Collecting oauthlib>=3.0.0\n",
      "  Downloading oauthlib-3.1.0-py2.py3-none-any.whl (147 kB)\n",
      "\u001b[K     |████████████████████████████████| 147 kB 6.9 MB/s eta 0:00:01\n",
      "\u001b[?25hInstalling collected packages: oauthlib, requests-oauthlib, tweepy\n",
      "Successfully installed oauthlib-3.1.0 requests-oauthlib-1.3.0 tweepy-3.8.0\n",
      "Note: you may need to restart the kernel to use updated packages.\n"
     ]
    }
   ],
   "source": [
    "#pip install tweepy"
   ]
  },
  {
   "cell_type": "code",
   "execution_count": 2,
   "metadata": {},
   "outputs": [
    {
     "name": "stdout",
     "output_type": "stream",
     "text": [
      "Collecting twitter_scraper\n",
      "  Downloading twitter_scraper-0.4.1-py2.py3-none-any.whl (9.0 kB)\n",
      "Collecting MechanicalSoup\n",
      "  Downloading MechanicalSoup-0.12.0-py2.py3-none-any.whl (18 kB)\n",
      "Collecting requests-html\n",
      "  Downloading requests_html-0.10.0-py3-none-any.whl (13 kB)\n",
      "Requirement already satisfied: lxml in /Users/najihafatemaboosra/opt/anaconda3/lib/python3.7/site-packages (from MechanicalSoup->twitter_scraper) (4.5.0)\n",
      "Requirement already satisfied: beautifulsoup4>=4.4 in /Users/najihafatemaboosra/opt/anaconda3/lib/python3.7/site-packages (from MechanicalSoup->twitter_scraper) (4.8.2)\n",
      "Requirement already satisfied: six>=1.4 in /Users/najihafatemaboosra/opt/anaconda3/lib/python3.7/site-packages (from MechanicalSoup->twitter_scraper) (1.14.0)\n",
      "Requirement already satisfied: requests>=2.0 in /Users/najihafatemaboosra/opt/anaconda3/lib/python3.7/site-packages (from MechanicalSoup->twitter_scraper) (2.22.0)\n",
      "Collecting parse\n",
      "  Downloading parse-1.15.0.tar.gz (29 kB)\n",
      "Collecting pyppeteer>=0.0.14\n",
      "  Downloading pyppeteer-0.0.25.tar.gz (1.2 MB)\n",
      "\u001b[K     |████████████████████████████████| 1.2 MB 9.0 MB/s eta 0:00:01\n",
      "\u001b[?25hCollecting fake-useragent\n",
      "  Downloading fake-useragent-0.1.11.tar.gz (13 kB)\n",
      "Collecting bs4\n",
      "  Downloading bs4-0.0.1.tar.gz (1.1 kB)\n",
      "Collecting pyquery\n",
      "  Downloading pyquery-1.4.1-py2.py3-none-any.whl (22 kB)\n",
      "Collecting w3lib\n",
      "  Downloading w3lib-1.21.0-py2.py3-none-any.whl (20 kB)\n",
      "Requirement already satisfied: soupsieve>=1.2 in /Users/najihafatemaboosra/opt/anaconda3/lib/python3.7/site-packages (from beautifulsoup4>=4.4->MechanicalSoup->twitter_scraper) (1.9.5)\n",
      "Requirement already satisfied: idna<2.9,>=2.5 in /Users/najihafatemaboosra/opt/anaconda3/lib/python3.7/site-packages (from requests>=2.0->MechanicalSoup->twitter_scraper) (2.8)\n",
      "Requirement already satisfied: urllib3!=1.25.0,!=1.25.1,<1.26,>=1.21.1 in /Users/najihafatemaboosra/opt/anaconda3/lib/python3.7/site-packages (from requests>=2.0->MechanicalSoup->twitter_scraper) (1.25.8)\n",
      "Requirement already satisfied: chardet<3.1.0,>=3.0.2 in /Users/najihafatemaboosra/opt/anaconda3/lib/python3.7/site-packages (from requests>=2.0->MechanicalSoup->twitter_scraper) (3.0.4)\n",
      "Requirement already satisfied: certifi>=2017.4.17 in /Users/najihafatemaboosra/opt/anaconda3/lib/python3.7/site-packages (from requests>=2.0->MechanicalSoup->twitter_scraper) (2019.11.28)\n",
      "Collecting pyee\n",
      "  Downloading pyee-7.0.1-py2.py3-none-any.whl (12 kB)\n",
      "Collecting websockets\n",
      "  Downloading websockets-8.1-cp37-cp37m-macosx_10_6_intel.whl (66 kB)\n",
      "\u001b[K     |████████████████████████████████| 66 kB 8.5 MB/s  eta 0:00:01\n",
      "\u001b[?25hCollecting appdirs\n",
      "  Downloading appdirs-1.4.3-py2.py3-none-any.whl (12 kB)\n",
      "Requirement already satisfied: tqdm in /Users/najihafatemaboosra/opt/anaconda3/lib/python3.7/site-packages (from pyppeteer>=0.0.14->requests-html->twitter_scraper) (4.42.1)\n",
      "Collecting cssselect>0.7.9\n",
      "  Downloading cssselect-1.1.0-py2.py3-none-any.whl (16 kB)\n",
      "Building wheels for collected packages: parse, pyppeteer, fake-useragent, bs4\n",
      "  Building wheel for parse (setup.py) ... \u001b[?25ldone\n",
      "\u001b[?25h  Created wheel for parse: filename=parse-1.15.0-py3-none-any.whl size=23709 sha256=90ce9690d5e1560f86b209ee765414916330ed434121e8ddce426f2a17effc80\n",
      "  Stored in directory: /Users/najihafatemaboosra/Library/Caches/pip/wheels/d7/b3/1d/5c94c64413b2212f64a297c92f11edd45e4474d08d0220a008\n",
      "  Building wheel for pyppeteer (setup.py) ... \u001b[?25ldone\n",
      "\u001b[?25h  Created wheel for pyppeteer: filename=pyppeteer-0.0.25-py3-none-any.whl size=78361 sha256=7c2cd6560d9cadaa006a06769bb248d9fb8a5e74c0148e1da969d29be981e22f\n",
      "  Stored in directory: /Users/najihafatemaboosra/Library/Caches/pip/wheels/ad/4c/02/f888feeabb0c1b751d00a3c2da2e1ccd1e713e72795b864857\n",
      "  Building wheel for fake-useragent (setup.py) ... \u001b[?25ldone\n",
      "\u001b[?25h  Created wheel for fake-useragent: filename=fake_useragent-0.1.11-py3-none-any.whl size=13487 sha256=9d40afbb58369290b01c72b81df82f6f97b0583a957cef303e82b26017f5243c\n",
      "  Stored in directory: /Users/najihafatemaboosra/Library/Caches/pip/wheels/ed/f7/62/50ab6c9a0b5567267ab76a9daa9d06315704209b2c5d032031\n",
      "  Building wheel for bs4 (setup.py) ... \u001b[?25ldone\n",
      "\u001b[?25h  Created wheel for bs4: filename=bs4-0.0.1-py3-none-any.whl size=1272 sha256=25733f640231ec9a5c5cf64f6231539ff52127f45d15faaa0b88a4ce3a560e97\n",
      "  Stored in directory: /Users/najihafatemaboosra/Library/Caches/pip/wheels/0a/9e/ba/20e5bbc1afef3a491f0b3bb74d508f99403aabe76eda2167ca\n",
      "Successfully built parse pyppeteer fake-useragent bs4\n",
      "Installing collected packages: MechanicalSoup, parse, pyee, websockets, appdirs, pyppeteer, fake-useragent, bs4, cssselect, pyquery, w3lib, requests-html, twitter-scraper\n",
      "Successfully installed MechanicalSoup-0.12.0 appdirs-1.4.3 bs4-0.0.1 cssselect-1.1.0 fake-useragent-0.1.11 parse-1.15.0 pyee-7.0.1 pyppeteer-0.0.25 pyquery-1.4.1 requests-html-0.10.0 twitter-scraper-0.4.1 w3lib-1.21.0 websockets-8.1\n",
      "Note: you may need to restart the kernel to use updated packages.\n"
     ]
    }
   ],
   "source": [
    "#pip install twitter_scraper"
   ]
  },
  {
   "cell_type": "code",
   "execution_count": 3,
   "metadata": {},
   "outputs": [
    {
     "name": "stdout",
     "output_type": "stream",
     "text": [
      "Requirement already satisfied: TweetScraper in /Users/najihafatemaboosra/opt/anaconda3/lib/python3.7/site-packages (1.2.6)\n",
      "Requirement already satisfied: scrapy in /Users/najihafatemaboosra/opt/anaconda3/lib/python3.7/site-packages (from TweetScraper) (2.1.0)\n",
      "Requirement already satisfied: pymongo in /Users/najihafatemaboosra/opt/anaconda3/lib/python3.7/site-packages (from TweetScraper) (3.10.1)\n",
      "Requirement already satisfied: cssselect>=0.9.1 in /Users/najihafatemaboosra/opt/anaconda3/lib/python3.7/site-packages (from scrapy->TweetScraper) (1.1.0)\n",
      "Requirement already satisfied: zope.interface>=4.1.3 in /Users/najihafatemaboosra/opt/anaconda3/lib/python3.7/site-packages (from scrapy->TweetScraper) (5.1.0)\n",
      "Requirement already satisfied: protego>=0.1.15 in /Users/najihafatemaboosra/opt/anaconda3/lib/python3.7/site-packages (from scrapy->TweetScraper) (0.1.16)\n",
      "Requirement already satisfied: queuelib>=1.4.2 in /Users/najihafatemaboosra/opt/anaconda3/lib/python3.7/site-packages (from scrapy->TweetScraper) (1.5.0)\n",
      "Requirement already satisfied: lxml>=3.5.0 in /Users/najihafatemaboosra/opt/anaconda3/lib/python3.7/site-packages (from scrapy->TweetScraper) (4.5.0)\n",
      "Requirement already satisfied: PyDispatcher>=2.0.5 in /Users/najihafatemaboosra/opt/anaconda3/lib/python3.7/site-packages (from scrapy->TweetScraper) (2.0.5)\n",
      "Requirement already satisfied: service-identity>=16.0.0 in /Users/najihafatemaboosra/opt/anaconda3/lib/python3.7/site-packages (from scrapy->TweetScraper) (18.1.0)\n",
      "Requirement already satisfied: cryptography>=2.0 in /Users/najihafatemaboosra/opt/anaconda3/lib/python3.7/site-packages (from scrapy->TweetScraper) (2.8)\n",
      "Requirement already satisfied: parsel>=1.5.0 in /Users/najihafatemaboosra/opt/anaconda3/lib/python3.7/site-packages (from scrapy->TweetScraper) (1.5.2)\n",
      "Requirement already satisfied: pyOpenSSL>=16.2.0 in /Users/najihafatemaboosra/opt/anaconda3/lib/python3.7/site-packages (from scrapy->TweetScraper) (19.1.0)\n",
      "Requirement already satisfied: Twisted>=17.9.0 in /Users/najihafatemaboosra/opt/anaconda3/lib/python3.7/site-packages (from scrapy->TweetScraper) (20.3.0)\n",
      "Requirement already satisfied: w3lib>=1.17.0 in /Users/najihafatemaboosra/opt/anaconda3/lib/python3.7/site-packages (from scrapy->TweetScraper) (1.21.0)\n",
      "Requirement already satisfied: setuptools in /Users/najihafatemaboosra/opt/anaconda3/lib/python3.7/site-packages (from zope.interface>=4.1.3->scrapy->TweetScraper) (46.0.0.post20200309)\n",
      "Requirement already satisfied: six in /Users/najihafatemaboosra/opt/anaconda3/lib/python3.7/site-packages (from protego>=0.1.15->scrapy->TweetScraper) (1.14.0)\n",
      "Requirement already satisfied: pyasn1-modules in /Users/najihafatemaboosra/opt/anaconda3/lib/python3.7/site-packages (from service-identity>=16.0.0->scrapy->TweetScraper) (0.2.8)\n",
      "Requirement already satisfied: attrs>=16.0.0 in /Users/najihafatemaboosra/opt/anaconda3/lib/python3.7/site-packages (from service-identity>=16.0.0->scrapy->TweetScraper) (19.3.0)\n",
      "Requirement already satisfied: pyasn1 in /Users/najihafatemaboosra/opt/anaconda3/lib/python3.7/site-packages (from service-identity>=16.0.0->scrapy->TweetScraper) (0.4.8)\n",
      "Requirement already satisfied: cffi!=1.11.3,>=1.8 in /Users/najihafatemaboosra/opt/anaconda3/lib/python3.7/site-packages (from cryptography>=2.0->scrapy->TweetScraper) (1.14.0)\n",
      "Requirement already satisfied: incremental>=16.10.1 in /Users/najihafatemaboosra/opt/anaconda3/lib/python3.7/site-packages (from Twisted>=17.9.0->scrapy->TweetScraper) (17.5.0)\n",
      "Requirement already satisfied: Automat>=0.3.0 in /Users/najihafatemaboosra/opt/anaconda3/lib/python3.7/site-packages (from Twisted>=17.9.0->scrapy->TweetScraper) (20.2.0)\n",
      "Requirement already satisfied: hyperlink>=17.1.1 in /Users/najihafatemaboosra/opt/anaconda3/lib/python3.7/site-packages (from Twisted>=17.9.0->scrapy->TweetScraper) (19.0.0)\n",
      "Requirement already satisfied: PyHamcrest!=1.10.0,>=1.9.0 in /Users/najihafatemaboosra/opt/anaconda3/lib/python3.7/site-packages (from Twisted>=17.9.0->scrapy->TweetScraper) (2.0.2)\n",
      "Requirement already satisfied: constantly>=15.1 in /Users/najihafatemaboosra/opt/anaconda3/lib/python3.7/site-packages (from Twisted>=17.9.0->scrapy->TweetScraper) (15.1.0)\n",
      "Requirement already satisfied: pycparser in /Users/najihafatemaboosra/opt/anaconda3/lib/python3.7/site-packages (from cffi!=1.11.3,>=1.8->cryptography>=2.0->scrapy->TweetScraper) (2.19)\n",
      "Requirement already satisfied: idna>=2.5 in /Users/najihafatemaboosra/opt/anaconda3/lib/python3.7/site-packages (from hyperlink>=17.1.1->Twisted>=17.9.0->scrapy->TweetScraper) (2.8)\n",
      "Note: you may need to restart the kernel to use updated packages.\n"
     ]
    }
   ],
   "source": [
    "pip install TweetScraper"
   ]
  },
  {
   "cell_type": "code",
   "execution_count": 5,
   "metadata": {},
   "outputs": [],
   "source": [
    "import pandas as pd\n",
    "import numpy as np\n",
    "import time\n",
    "import requests\n",
    "from twitter_scraper import get_tweets"
   ]
  },
  {
   "cell_type": "code",
   "execution_count": null,
   "metadata": {},
   "outputs": [],
   "source": []
  }
 ],
 "metadata": {
  "kernelspec": {
   "display_name": "Python 3",
   "language": "python",
   "name": "python3"
  },
  "language_info": {
   "codemirror_mode": {
    "name": "ipython",
    "version": 3
   },
   "file_extension": ".py",
   "mimetype": "text/x-python",
   "name": "python",
   "nbconvert_exporter": "python",
   "pygments_lexer": "ipython3",
   "version": "3.7.6"
  }
 },
 "nbformat": 4,
 "nbformat_minor": 4
}
