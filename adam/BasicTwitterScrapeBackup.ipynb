{
 "cells": [
  {
   "cell_type": "code",
   "execution_count": null,
   "metadata": {},
   "outputs": [],
   "source": [
    "def get_tweets(query):\n",
    "    tweets = {}\n",
    "    count = 0\n",
    "    for tweet in query_tweets(query,100,begindate=datetime.date(2019,12,1)):\n",
    "        chirp = {}\n",
    "        chirp['tweet_id'] = tweet.tweet_id\n",
    "        chirp['ssername'] = tweet.username\n",
    "        chirp['text'] = tweet.text\n",
    "        chirp['tweet_date'] = tweet.timestamp\n",
    "        chirp['search_term'] = query\n",
    "        tweets.update({count : chirp})\n",
    "        count += 1\n",
    "    return tweets"
   ]
  }
 ],
 "metadata": {
  "kernelspec": {
   "display_name": "Python 3",
   "language": "python",
   "name": "python3"
  },
  "language_info": {
   "codemirror_mode": {
    "name": "ipython",
    "version": 3
   },
   "file_extension": ".py",
   "mimetype": "text/x-python",
   "name": "python",
   "nbconvert_exporter": "python",
   "pygments_lexer": "ipython3",
   "version": "3.7.6"
  }
 },
 "nbformat": 4,
 "nbformat_minor": 4
}
