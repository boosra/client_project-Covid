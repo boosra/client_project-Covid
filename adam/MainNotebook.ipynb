{
 "cells": [
  {
   "cell_type": "code",
   "execution_count": 1,
   "metadata": {},
   "outputs": [],
   "source": [
    "import pandas as pd \n",
    "import numpy as np \n"
   ]
  },
  {
   "cell_type": "code",
   "execution_count": 3,
   "metadata": {},
   "outputs": [],
   "source": [
    "df = pd.read_csv(r'./datasets/twitter_scrape_5.10.csv')"
   ]
  },
  {
   "cell_type": "code",
   "execution_count": 4,
   "metadata": {},
   "outputs": [
    {
     "output_type": "execute_result",
     "data": {
      "text/plain": "              tweet_id              username  \\\n0  1230271896752730117       Paloma Escudero   \n1  1230192345087447040     RLC Student Media   \n2  1230096130748317696  Dr Janette Nesheiwat   \n3  1229810497341599744  Element Healing Arts   \n4  1229567925004242944               Darwish   \n\n                                                text           tweet_date  \\\n0  Coronavirus disease (COVID-19): What parents s...  2020-02-19 23:24:12   \n1  More flu deaths in Dallas, COVID-19 now in Tex...  2020-02-19 18:08:05   \n2  Flu kills. Worst season I’ve seen in years.   ...  2020-02-19 11:45:46   \n3  Earlier this week, Bloomberg News reported tha...  2020-02-18 16:50:45   \n4  Chinese scientists says COVID-19/coronavirus c...  2020-02-18 00:46:52   \n\n  search_term                                               city        lat  \\\n0       COVID  {'city': 'Brooklyn', 'lat': 40.650002, 'long':...  40.650002   \n1       COVID  {'city': 'Brooklyn', 'lat': 40.650002, 'long':...  40.650002   \n2       COVID  {'city': 'Brooklyn', 'lat': 40.650002, 'long':...  40.650002   \n3       COVID  {'city': 'Brooklyn', 'lat': 40.650002, 'long':...  40.650002   \n4       COVID  {'city': 'Brooklyn', 'lat': 40.650002, 'long':...  40.650002   \n\n        long radius query_start  \n0 -73.949997   10mi  2020-02-01  \n1 -73.949997   10mi  2020-02-01  \n2 -73.949997   10mi  2020-02-01  \n3 -73.949997   10mi  2020-02-01  \n4 -73.949997   10mi  2020-02-01  ",
      "text/html": "<div>\n<style scoped>\n    .dataframe tbody tr th:only-of-type {\n        vertical-align: middle;\n    }\n\n    .dataframe tbody tr th {\n        vertical-align: top;\n    }\n\n    .dataframe thead th {\n        text-align: right;\n    }\n</style>\n<table border=\"1\" class=\"dataframe\">\n  <thead>\n    <tr style=\"text-align: right;\">\n      <th></th>\n      <th>tweet_id</th>\n      <th>username</th>\n      <th>text</th>\n      <th>tweet_date</th>\n      <th>search_term</th>\n      <th>city</th>\n      <th>lat</th>\n      <th>long</th>\n      <th>radius</th>\n      <th>query_start</th>\n    </tr>\n  </thead>\n  <tbody>\n    <tr>\n      <th>0</th>\n      <td>1230271896752730117</td>\n      <td>Paloma Escudero</td>\n      <td>Coronavirus disease (COVID-19): What parents s...</td>\n      <td>2020-02-19 23:24:12</td>\n      <td>COVID</td>\n      <td>{'city': 'Brooklyn', 'lat': 40.650002, 'long':...</td>\n      <td>40.650002</td>\n      <td>-73.949997</td>\n      <td>10mi</td>\n      <td>2020-02-01</td>\n    </tr>\n    <tr>\n      <th>1</th>\n      <td>1230192345087447040</td>\n      <td>RLC Student Media</td>\n      <td>More flu deaths in Dallas, COVID-19 now in Tex...</td>\n      <td>2020-02-19 18:08:05</td>\n      <td>COVID</td>\n      <td>{'city': 'Brooklyn', 'lat': 40.650002, 'long':...</td>\n      <td>40.650002</td>\n      <td>-73.949997</td>\n      <td>10mi</td>\n      <td>2020-02-01</td>\n    </tr>\n    <tr>\n      <th>2</th>\n      <td>1230096130748317696</td>\n      <td>Dr Janette Nesheiwat</td>\n      <td>Flu kills. Worst season I’ve seen in years.   ...</td>\n      <td>2020-02-19 11:45:46</td>\n      <td>COVID</td>\n      <td>{'city': 'Brooklyn', 'lat': 40.650002, 'long':...</td>\n      <td>40.650002</td>\n      <td>-73.949997</td>\n      <td>10mi</td>\n      <td>2020-02-01</td>\n    </tr>\n    <tr>\n      <th>3</th>\n      <td>1229810497341599744</td>\n      <td>Element Healing Arts</td>\n      <td>Earlier this week, Bloomberg News reported tha...</td>\n      <td>2020-02-18 16:50:45</td>\n      <td>COVID</td>\n      <td>{'city': 'Brooklyn', 'lat': 40.650002, 'long':...</td>\n      <td>40.650002</td>\n      <td>-73.949997</td>\n      <td>10mi</td>\n      <td>2020-02-01</td>\n    </tr>\n    <tr>\n      <th>4</th>\n      <td>1229567925004242944</td>\n      <td>Darwish</td>\n      <td>Chinese scientists says COVID-19/coronavirus c...</td>\n      <td>2020-02-18 00:46:52</td>\n      <td>COVID</td>\n      <td>{'city': 'Brooklyn', 'lat': 40.650002, 'long':...</td>\n      <td>40.650002</td>\n      <td>-73.949997</td>\n      <td>10mi</td>\n      <td>2020-02-01</td>\n    </tr>\n  </tbody>\n</table>\n</div>"
     },
     "metadata": {},
     "execution_count": 4
    }
   ],
   "source": [
    "df.head()"
   ]
  },
  {
   "cell_type": "code",
   "execution_count": 58,
   "metadata": {},
   "outputs": [],
   "source": [
    "#Credit to Gil Baggio https://stackoverflow.com/questions/12497402/python-pandas-remove-duplicates-by-columns-a-keeping-the-row-with-the-highest/41650846#41650846 for source to this solution\n",
    "df = df.drop_duplicates('tweet_id', keep='last')"
   ]
  },
  {
   "cell_type": "code",
   "execution_count": 59,
   "metadata": {},
   "outputs": [
    {
     "output_type": "execute_result",
     "data": {
      "text/plain": "                  tweet_id                             username  \\\n103    1233499966842294272                 Evan T. At-home-rton   \n105    1233461908583460865                     Hefe O-Ren Ishii   \n108    1233426447206887424                       tommiedcollins   \n110    1233408000838205451                         JeffCoHealth   \n111    1233407710676295680                   Gregory-Glenn Lake   \n...                    ...                                  ...   \n51187  1257093235375300611                                CÆTUS   \n51188  1257030762764947457                                CÆTUS   \n51189  1257024459732586497                                CÆTUS   \n51190  1257001155990884354                    BLUMINERVIGILANCE   \n51191  1256758593581395969  Center for Compassionate Leadership   \n\n                                                    text           tweet_date  \\\n103    Predicting a massive spike in babies being nam...  2020-02-28 21:11:24   \n105    The minute they confirm covid near me or my da...  2020-02-28 18:40:10   \n108    Just finished listening live to tail end of Wo...  2020-02-28 16:19:15   \n110    DHSS Director Williams meets at White House to...  2020-02-28 15:05:57   \n111    COVID_19 UNMASKED √ https://twitter.com/patric...  2020-02-28 15:04:48   \n...                                                  ...                  ...   \n51187  demand will snap back 10x faster than after 9/...  2020-05-03 23:42:37   \n51188  the whole thing is just stupid\\n\\nquarantine t...  2020-05-03 19:34:23   \n51189  is the rate of #COVID19 admissions past peak?\\...  2020-05-03 19:09:20   \n51190  VOTE FAV GUS NAME \\nROUND 2 \\nBATTLE 2\\n@psych...  2020-05-03 17:36:44   \n51191  #COVID19 is affecting workers differently &exp...  2020-05-03 01:32:52   \n\n      search_term                                               city  \\\n103         COVID  {'city': 'Brooklyn', 'lat': 40.650002, 'long':...   \n105         COVID  {'city': 'Brooklyn', 'lat': 40.650002, 'long':...   \n108         COVID  {'city': 'Brooklyn', 'lat': 40.650002, 'long':...   \n110         COVID  {'city': 'Brooklyn', 'lat': 40.650002, 'long':...   \n111         COVID  {'city': 'Brooklyn', 'lat': 40.650002, 'long':...   \n...           ...                                                ...   \n51187    #covid19  {'city': 'NYC', 'lat': 40.9634, 'long': -72.18...   \n51188    #covid19  {'city': 'NYC', 'lat': 40.9634, 'long': -72.18...   \n51189    #covid19  {'city': 'NYC', 'lat': 40.9634, 'long': -72.18...   \n51190    #covid19  {'city': 'NYC', 'lat': 40.9634, 'long': -72.18...   \n51191    #covid19  {'city': 'NYC', 'lat': 40.9634, 'long': -72.18...   \n\n             lat       long radius query_start  \n103    40.650002 -73.949997   10mi  2020-02-01  \n105    40.650002 -73.949997   10mi  2020-02-01  \n108    40.650002 -73.949997   10mi  2020-02-01  \n110    40.650002 -73.949997   10mi  2020-02-01  \n111    40.650002 -73.949997   10mi  2020-02-01  \n...          ...        ...    ...         ...  \n51187  40.963400 -72.184800   35mi  2020-01-01  \n51188  40.963400 -72.184800   35mi  2020-01-01  \n51189  40.963400 -72.184800   35mi  2020-01-01  \n51190  40.963400 -72.184800   35mi  2020-01-01  \n51191  40.963400 -72.184800   35mi  2020-01-01  \n\n[31881 rows x 10 columns]",
      "text/html": "<div>\n<style scoped>\n    .dataframe tbody tr th:only-of-type {\n        vertical-align: middle;\n    }\n\n    .dataframe tbody tr th {\n        vertical-align: top;\n    }\n\n    .dataframe thead th {\n        text-align: right;\n    }\n</style>\n<table border=\"1\" class=\"dataframe\">\n  <thead>\n    <tr style=\"text-align: right;\">\n      <th></th>\n      <th>tweet_id</th>\n      <th>username</th>\n      <th>text</th>\n      <th>tweet_date</th>\n      <th>search_term</th>\n      <th>city</th>\n      <th>lat</th>\n      <th>long</th>\n      <th>radius</th>\n      <th>query_start</th>\n    </tr>\n  </thead>\n  <tbody>\n    <tr>\n      <th>103</th>\n      <td>1233499966842294272</td>\n      <td>Evan T. At-home-rton</td>\n      <td>Predicting a massive spike in babies being nam...</td>\n      <td>2020-02-28 21:11:24</td>\n      <td>COVID</td>\n      <td>{'city': 'Brooklyn', 'lat': 40.650002, 'long':...</td>\n      <td>40.650002</td>\n      <td>-73.949997</td>\n      <td>10mi</td>\n      <td>2020-02-01</td>\n    </tr>\n    <tr>\n      <th>105</th>\n      <td>1233461908583460865</td>\n      <td>Hefe O-Ren Ishii</td>\n      <td>The minute they confirm covid near me or my da...</td>\n      <td>2020-02-28 18:40:10</td>\n      <td>COVID</td>\n      <td>{'city': 'Brooklyn', 'lat': 40.650002, 'long':...</td>\n      <td>40.650002</td>\n      <td>-73.949997</td>\n      <td>10mi</td>\n      <td>2020-02-01</td>\n    </tr>\n    <tr>\n      <th>108</th>\n      <td>1233426447206887424</td>\n      <td>tommiedcollins</td>\n      <td>Just finished listening live to tail end of Wo...</td>\n      <td>2020-02-28 16:19:15</td>\n      <td>COVID</td>\n      <td>{'city': 'Brooklyn', 'lat': 40.650002, 'long':...</td>\n      <td>40.650002</td>\n      <td>-73.949997</td>\n      <td>10mi</td>\n      <td>2020-02-01</td>\n    </tr>\n    <tr>\n      <th>110</th>\n      <td>1233408000838205451</td>\n      <td>JeffCoHealth</td>\n      <td>DHSS Director Williams meets at White House to...</td>\n      <td>2020-02-28 15:05:57</td>\n      <td>COVID</td>\n      <td>{'city': 'Brooklyn', 'lat': 40.650002, 'long':...</td>\n      <td>40.650002</td>\n      <td>-73.949997</td>\n      <td>10mi</td>\n      <td>2020-02-01</td>\n    </tr>\n    <tr>\n      <th>111</th>\n      <td>1233407710676295680</td>\n      <td>Gregory-Glenn Lake</td>\n      <td>COVID_19 UNMASKED √ https://twitter.com/patric...</td>\n      <td>2020-02-28 15:04:48</td>\n      <td>COVID</td>\n      <td>{'city': 'Brooklyn', 'lat': 40.650002, 'long':...</td>\n      <td>40.650002</td>\n      <td>-73.949997</td>\n      <td>10mi</td>\n      <td>2020-02-01</td>\n    </tr>\n    <tr>\n      <th>...</th>\n      <td>...</td>\n      <td>...</td>\n      <td>...</td>\n      <td>...</td>\n      <td>...</td>\n      <td>...</td>\n      <td>...</td>\n      <td>...</td>\n      <td>...</td>\n      <td>...</td>\n    </tr>\n    <tr>\n      <th>51187</th>\n      <td>1257093235375300611</td>\n      <td>CÆTUS</td>\n      <td>demand will snap back 10x faster than after 9/...</td>\n      <td>2020-05-03 23:42:37</td>\n      <td>#covid19</td>\n      <td>{'city': 'NYC', 'lat': 40.9634, 'long': -72.18...</td>\n      <td>40.963400</td>\n      <td>-72.184800</td>\n      <td>35mi</td>\n      <td>2020-01-01</td>\n    </tr>\n    <tr>\n      <th>51188</th>\n      <td>1257030762764947457</td>\n      <td>CÆTUS</td>\n      <td>the whole thing is just stupid\\n\\nquarantine t...</td>\n      <td>2020-05-03 19:34:23</td>\n      <td>#covid19</td>\n      <td>{'city': 'NYC', 'lat': 40.9634, 'long': -72.18...</td>\n      <td>40.963400</td>\n      <td>-72.184800</td>\n      <td>35mi</td>\n      <td>2020-01-01</td>\n    </tr>\n    <tr>\n      <th>51189</th>\n      <td>1257024459732586497</td>\n      <td>CÆTUS</td>\n      <td>is the rate of #COVID19 admissions past peak?\\...</td>\n      <td>2020-05-03 19:09:20</td>\n      <td>#covid19</td>\n      <td>{'city': 'NYC', 'lat': 40.9634, 'long': -72.18...</td>\n      <td>40.963400</td>\n      <td>-72.184800</td>\n      <td>35mi</td>\n      <td>2020-01-01</td>\n    </tr>\n    <tr>\n      <th>51190</th>\n      <td>1257001155990884354</td>\n      <td>BLUMINERVIGILANCE</td>\n      <td>VOTE FAV GUS NAME \\nROUND 2 \\nBATTLE 2\\n@psych...</td>\n      <td>2020-05-03 17:36:44</td>\n      <td>#covid19</td>\n      <td>{'city': 'NYC', 'lat': 40.9634, 'long': -72.18...</td>\n      <td>40.963400</td>\n      <td>-72.184800</td>\n      <td>35mi</td>\n      <td>2020-01-01</td>\n    </tr>\n    <tr>\n      <th>51191</th>\n      <td>1256758593581395969</td>\n      <td>Center for Compassionate Leadership</td>\n      <td>#COVID19 is affecting workers differently &amp;exp...</td>\n      <td>2020-05-03 01:32:52</td>\n      <td>#covid19</td>\n      <td>{'city': 'NYC', 'lat': 40.9634, 'long': -72.18...</td>\n      <td>40.963400</td>\n      <td>-72.184800</td>\n      <td>35mi</td>\n      <td>2020-01-01</td>\n    </tr>\n  </tbody>\n</table>\n<p>31881 rows × 10 columns</p>\n</div>"
     },
     "metadata": {},
     "execution_count": 59
    }
   ],
   "source": [
    "df"
   ]
  },
  {
   "cell_type": "markdown",
   "metadata": {},
   "source": [
    "### Cleaning out Duplicate Values"
   ]
  },
  {
   "cell_type": "markdown",
   "metadata": {},
   "source": [
    "Due to the way our function collected data, there was going to be substantial geographical overlap and likely duplicate tweets collected. When we finished running the collection, of the 52,000 collected tweets, around 20,000 tweets were duplicates that needed to be dropped."
   ]
  },
  {
   "cell_type": "code",
   "execution_count": 61,
   "metadata": {},
   "outputs": [
    {
     "output_type": "execute_result",
     "data": {
      "text/plain": "                  tweet_id  count\n0      1216102741149396992      1\n1      1216104063307276289      1\n2      1220790478100103174      1\n3      1221249130342821888      1\n4      1222142750533070849      1\n...                    ...    ...\n31876  1259271869661839361      1\n31877  1259271893540093952      1\n31878  1259271902788534273      1\n31879  1259271905909133313      1\n31880  1259271921864265730      1\n\n[31881 rows x 2 columns]",
      "text/html": "<div>\n<style scoped>\n    .dataframe tbody tr th:only-of-type {\n        vertical-align: middle;\n    }\n\n    .dataframe tbody tr th {\n        vertical-align: top;\n    }\n\n    .dataframe thead th {\n        text-align: right;\n    }\n</style>\n<table border=\"1\" class=\"dataframe\">\n  <thead>\n    <tr style=\"text-align: right;\">\n      <th></th>\n      <th>tweet_id</th>\n      <th>count</th>\n    </tr>\n  </thead>\n  <tbody>\n    <tr>\n      <th>0</th>\n      <td>1216102741149396992</td>\n      <td>1</td>\n    </tr>\n    <tr>\n      <th>1</th>\n      <td>1216104063307276289</td>\n      <td>1</td>\n    </tr>\n    <tr>\n      <th>2</th>\n      <td>1220790478100103174</td>\n      <td>1</td>\n    </tr>\n    <tr>\n      <th>3</th>\n      <td>1221249130342821888</td>\n      <td>1</td>\n    </tr>\n    <tr>\n      <th>4</th>\n      <td>1222142750533070849</td>\n      <td>1</td>\n    </tr>\n    <tr>\n      <th>...</th>\n      <td>...</td>\n      <td>...</td>\n    </tr>\n    <tr>\n      <th>31876</th>\n      <td>1259271869661839361</td>\n      <td>1</td>\n    </tr>\n    <tr>\n      <th>31877</th>\n      <td>1259271893540093952</td>\n      <td>1</td>\n    </tr>\n    <tr>\n      <th>31878</th>\n      <td>1259271902788534273</td>\n      <td>1</td>\n    </tr>\n    <tr>\n      <th>31879</th>\n      <td>1259271905909133313</td>\n      <td>1</td>\n    </tr>\n    <tr>\n      <th>31880</th>\n      <td>1259271921864265730</td>\n      <td>1</td>\n    </tr>\n  </tbody>\n</table>\n<p>31881 rows × 2 columns</p>\n</div>"
     },
     "metadata": {},
     "execution_count": 61
    }
   ],
   "source": [
    "dups_tweets = df.groupby(['tweet_id']).size().reset_index(name='count')\n",
    "dups_tweets"
   ]
  },
  {
   "cell_type": "code",
   "execution_count": 54,
   "metadata": {},
   "outputs": [
    {
     "output_type": "execute_result",
     "data": {
      "text/plain": "28365    31\n671      27\n6819     26\n20051    26\n16304    26\n         ..\n16033     2\n16032     2\n16031     2\n16027     2\n2         2\nName: count, Length: 4982, dtype: int64"
     },
     "metadata": {},
     "execution_count": 54
    }
   ],
   "source": [
    "dups_tweets = dups_tweets[dups_tweets['count'] != 1]\n",
    "dups_tweets['count'].sort_values(ascending = False)"
   ]
  },
  {
   "cell_type": "code",
   "execution_count": null,
   "metadata": {},
   "outputs": [],
   "source": []
  }
 ],
 "metadata": {
  "kernelspec": {
   "display_name": "Python 3",
   "language": "python",
   "name": "python3"
  },
  "language_info": {
   "codemirror_mode": {
    "name": "ipython",
    "version": 3
   },
   "file_extension": ".py",
   "mimetype": "text/x-python",
   "name": "python",
   "nbconvert_exporter": "python",
   "pygments_lexer": "ipython3",
   "version": "3.7.6-final"
  }
 },
 "nbformat": 4,
 "nbformat_minor": 4
}