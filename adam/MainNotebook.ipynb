{
 "cells": [
  {
   "cell_type": "code",
   "execution_count": 2,
   "metadata": {},
   "outputs": [],
   "source": [
    "import pandas as pd \n",
    "import numpy as np \n"
   ]
  },
  {
   "cell_type": "code",
   "execution_count": 11,
   "metadata": {},
   "outputs": [],
   "source": [
    "df = pd.read_csv(r'./datasets/scrape_5.11.csv')"
   ]
  },
  {
   "cell_type": "code",
   "execution_count": 14,
   "metadata": {},
   "outputs": [
    {
     "output_type": "execute_result",
     "data": {
      "text/plain": "                   tweet_id               username  \\\n0       1228415289269858310            Bearjew1964   \n1       1228345808954765313         Carlos Salazar   \n2       1228149699145871360       Hefe O-Ren Ishii   \n3       1228008158586720256                   josh   \n4       1227684262859636738              Helen Ong   \n...                     ...                    ...   \n102375  1259183090511028225   Brian -Doc- Hall 🌻🦺🌺   \n102376  1259011974257664000  Trainman_lover 🚂🇺🇸⭐⭐⭐   \n102377  1258420596452610050        Riverhead Patch   \n102378  1258229860880846848           UGLYboiJIGGY   \n102379  1257328972360228865           Tristan Sess   \n\n                                                     text  \\\n0       Disease modelers gaze into their computers to ...   \n1       I know we have a limited attention span and al...   \n2       As one Princess cruise is quarantined for COVI...   \n3       how about we call it by it’s new name: COVID-1...   \n4       Scorpio: To me, the #COVID_19 19, as virulent ...   \n...                                                   ...   \n102375  The current advisory is that due to shortages,...   \n102376  What ?? The factories haven't been closed, Uni...   \n102377  The hospitals received N95 masks, surgical mas...   \n102378  even the homeless got the N95 out here selling...   \n102379  If you don’t have some sort of n95 or bandana ...   \n\n                 tweet_date search_term      city        lat       long  \\\n0       2020-02-14 20:26:42       COVID  Brooklyn  40.650002 -73.949997   \n1       2020-02-14 15:50:37       COVID  Brooklyn  40.650002 -73.949997   \n2       2020-02-14 02:51:20       COVID  Brooklyn  40.650002 -73.949997   \n3       2020-02-13 17:28:54       COVID  Brooklyn  40.650002 -73.949997   \n4       2020-02-12 20:01:52       COVID  Brooklyn  40.650002 -73.949997   \n...                     ...         ...       ...        ...        ...   \n102375  2020-05-09 18:06:57         N95       NYC  40.963400 -72.184800   \n102376  2020-05-09 06:47:00         N95       NYC  40.963400 -72.184800   \n102377  2020-05-07 15:37:05         N95       NYC  40.963400 -72.184800   \n102378  2020-05-07 02:59:10         N95       NYC  40.963400 -72.184800   \n102379  2020-05-04 15:19:21         N95       NYC  40.963400 -72.184800   \n\n       radius query_start  \n0        10mi  2020-02-01  \n1        10mi  2020-02-01  \n2        10mi  2020-02-01  \n3        10mi  2020-02-01  \n4        10mi  2020-02-01  \n...       ...         ...  \n102375   35mi  2020-01-01  \n102376   35mi  2020-01-01  \n102377   35mi  2020-01-01  \n102378   35mi  2020-01-01  \n102379   35mi  2020-01-01  \n\n[102380 rows x 10 columns]",
      "text/html": "<div>\n<style scoped>\n    .dataframe tbody tr th:only-of-type {\n        vertical-align: middle;\n    }\n\n    .dataframe tbody tr th {\n        vertical-align: top;\n    }\n\n    .dataframe thead th {\n        text-align: right;\n    }\n</style>\n<table border=\"1\" class=\"dataframe\">\n  <thead>\n    <tr style=\"text-align: right;\">\n      <th></th>\n      <th>tweet_id</th>\n      <th>username</th>\n      <th>text</th>\n      <th>tweet_date</th>\n      <th>search_term</th>\n      <th>city</th>\n      <th>lat</th>\n      <th>long</th>\n      <th>radius</th>\n      <th>query_start</th>\n    </tr>\n  </thead>\n  <tbody>\n    <tr>\n      <th>0</th>\n      <td>1228415289269858310</td>\n      <td>Bearjew1964</td>\n      <td>Disease modelers gaze into their computers to ...</td>\n      <td>2020-02-14 20:26:42</td>\n      <td>COVID</td>\n      <td>Brooklyn</td>\n      <td>40.650002</td>\n      <td>-73.949997</td>\n      <td>10mi</td>\n      <td>2020-02-01</td>\n    </tr>\n    <tr>\n      <th>1</th>\n      <td>1228345808954765313</td>\n      <td>Carlos Salazar</td>\n      <td>I know we have a limited attention span and al...</td>\n      <td>2020-02-14 15:50:37</td>\n      <td>COVID</td>\n      <td>Brooklyn</td>\n      <td>40.650002</td>\n      <td>-73.949997</td>\n      <td>10mi</td>\n      <td>2020-02-01</td>\n    </tr>\n    <tr>\n      <th>2</th>\n      <td>1228149699145871360</td>\n      <td>Hefe O-Ren Ishii</td>\n      <td>As one Princess cruise is quarantined for COVI...</td>\n      <td>2020-02-14 02:51:20</td>\n      <td>COVID</td>\n      <td>Brooklyn</td>\n      <td>40.650002</td>\n      <td>-73.949997</td>\n      <td>10mi</td>\n      <td>2020-02-01</td>\n    </tr>\n    <tr>\n      <th>3</th>\n      <td>1228008158586720256</td>\n      <td>josh</td>\n      <td>how about we call it by it’s new name: COVID-1...</td>\n      <td>2020-02-13 17:28:54</td>\n      <td>COVID</td>\n      <td>Brooklyn</td>\n      <td>40.650002</td>\n      <td>-73.949997</td>\n      <td>10mi</td>\n      <td>2020-02-01</td>\n    </tr>\n    <tr>\n      <th>4</th>\n      <td>1227684262859636738</td>\n      <td>Helen Ong</td>\n      <td>Scorpio: To me, the #COVID_19 19, as virulent ...</td>\n      <td>2020-02-12 20:01:52</td>\n      <td>COVID</td>\n      <td>Brooklyn</td>\n      <td>40.650002</td>\n      <td>-73.949997</td>\n      <td>10mi</td>\n      <td>2020-02-01</td>\n    </tr>\n    <tr>\n      <th>...</th>\n      <td>...</td>\n      <td>...</td>\n      <td>...</td>\n      <td>...</td>\n      <td>...</td>\n      <td>...</td>\n      <td>...</td>\n      <td>...</td>\n      <td>...</td>\n      <td>...</td>\n    </tr>\n    <tr>\n      <th>102375</th>\n      <td>1259183090511028225</td>\n      <td>Brian -Doc- Hall 🌻🦺🌺</td>\n      <td>The current advisory is that due to shortages,...</td>\n      <td>2020-05-09 18:06:57</td>\n      <td>N95</td>\n      <td>NYC</td>\n      <td>40.963400</td>\n      <td>-72.184800</td>\n      <td>35mi</td>\n      <td>2020-01-01</td>\n    </tr>\n    <tr>\n      <th>102376</th>\n      <td>1259011974257664000</td>\n      <td>Trainman_lover 🚂🇺🇸⭐⭐⭐</td>\n      <td>What ?? The factories haven't been closed, Uni...</td>\n      <td>2020-05-09 06:47:00</td>\n      <td>N95</td>\n      <td>NYC</td>\n      <td>40.963400</td>\n      <td>-72.184800</td>\n      <td>35mi</td>\n      <td>2020-01-01</td>\n    </tr>\n    <tr>\n      <th>102377</th>\n      <td>1258420596452610050</td>\n      <td>Riverhead Patch</td>\n      <td>The hospitals received N95 masks, surgical mas...</td>\n      <td>2020-05-07 15:37:05</td>\n      <td>N95</td>\n      <td>NYC</td>\n      <td>40.963400</td>\n      <td>-72.184800</td>\n      <td>35mi</td>\n      <td>2020-01-01</td>\n    </tr>\n    <tr>\n      <th>102378</th>\n      <td>1258229860880846848</td>\n      <td>UGLYboiJIGGY</td>\n      <td>even the homeless got the N95 out here selling...</td>\n      <td>2020-05-07 02:59:10</td>\n      <td>N95</td>\n      <td>NYC</td>\n      <td>40.963400</td>\n      <td>-72.184800</td>\n      <td>35mi</td>\n      <td>2020-01-01</td>\n    </tr>\n    <tr>\n      <th>102379</th>\n      <td>1257328972360228865</td>\n      <td>Tristan Sess</td>\n      <td>If you don’t have some sort of n95 or bandana ...</td>\n      <td>2020-05-04 15:19:21</td>\n      <td>N95</td>\n      <td>NYC</td>\n      <td>40.963400</td>\n      <td>-72.184800</td>\n      <td>35mi</td>\n      <td>2020-01-01</td>\n    </tr>\n  </tbody>\n</table>\n<p>102380 rows × 10 columns</p>\n</div>"
     },
     "metadata": {},
     "execution_count": 14
    }
   ],
   "source": [
    "df"
   ]
  },
  {
   "cell_type": "markdown",
   "metadata": {},
   "source": [
    "### Cleaning out Duplicate Values"
   ]
  },
  {
   "cell_type": "markdown",
   "metadata": {},
   "source": [
    "Due to the way our function collected data, there was going to be substantial geographical overlap and likely duplicate tweets collected. When we finished running the collection, of the 102,000 collected tweets, we knew there were duplicates that had been caught multiple times by queries."
   ]
  },
  {
   "cell_type": "code",
   "execution_count": 18,
   "metadata": {},
   "outputs": [],
   "source": [
    "#Credit to Gil Baggio https://stackoverflow.com/questions/12497402/python-pandas-remove-duplicates-by-columns-a-keeping-the-row-with-the-highest/41650846#41650846 for source to this solution\n",
    "df = df.drop_duplicates('tweet_id', keep='last')"
   ]
  },
  {
   "cell_type": "code",
   "execution_count": 19,
   "metadata": {},
   "outputs": [
    {
     "output_type": "execute_result",
     "data": {
      "text/plain": "                   tweet_id               username  \\\n116     1233844182067875840       Hefe O-Ren Ishii   \n120     1233820264493993984           Jack Cohen 🏡   \n121     1233812715199770624          Tim Quirino 🍕   \n127     1233601346223460352            cody stuart   \n133     1233562637214142464                   たくぼー   \n...                     ...                    ...   \n102375  1259183090511028225   Brian -Doc- Hall 🌻🦺🌺   \n102376  1259011974257664000  Trainman_lover 🚂🇺🇸⭐⭐⭐   \n102377  1258420596452610050        Riverhead Patch   \n102378  1258229860880846848           UGLYboiJIGGY   \n102379  1257328972360228865           Tristan Sess   \n\n                                                     text  \\\n116     Y’all play and joke and keke over this covid s...   \n120            Covid is basically a worldwide fire drill.   \n121     So all the same concerns re: covid and it’s ef...   \n127     my covid nineteen prep has so far  consisted o...   \n133                       まあその帰国がいつになるかはCOVID-19次第なんですがね。   \n...                                                   ...   \n102375  The current advisory is that due to shortages,...   \n102376  What ?? The factories haven't been closed, Uni...   \n102377  The hospitals received N95 masks, surgical mas...   \n102378  even the homeless got the N95 out here selling...   \n102379  If you don’t have some sort of n95 or bandana ...   \n\n                 tweet_date search_term      city        lat       long  \\\n116     2020-02-29 19:59:11       COVID  Brooklyn  40.650002 -73.949997   \n120     2020-02-29 18:24:08       COVID  Brooklyn  40.650002 -73.949997   \n121     2020-02-29 17:54:09       COVID  Brooklyn  40.650002 -73.949997   \n127     2020-02-29 03:54:14       COVID  Brooklyn  40.650002 -73.949997   \n133     2020-02-29 01:20:25       COVID  Brooklyn  40.650002 -73.949997   \n...                     ...         ...       ...        ...        ...   \n102375  2020-05-09 18:06:57         N95       NYC  40.963400 -72.184800   \n102376  2020-05-09 06:47:00         N95       NYC  40.963400 -72.184800   \n102377  2020-05-07 15:37:05         N95       NYC  40.963400 -72.184800   \n102378  2020-05-07 02:59:10         N95       NYC  40.963400 -72.184800   \n102379  2020-05-04 15:19:21         N95       NYC  40.963400 -72.184800   \n\n       radius query_start  \n116      10mi  2020-02-01  \n120      10mi  2020-02-01  \n121      10mi  2020-02-01  \n127      10mi  2020-02-01  \n133      10mi  2020-02-01  \n...       ...         ...  \n102375   35mi  2020-01-01  \n102376   35mi  2020-01-01  \n102377   35mi  2020-01-01  \n102378   35mi  2020-01-01  \n102379   35mi  2020-01-01  \n\n[62348 rows x 10 columns]",
      "text/html": "<div>\n<style scoped>\n    .dataframe tbody tr th:only-of-type {\n        vertical-align: middle;\n    }\n\n    .dataframe tbody tr th {\n        vertical-align: top;\n    }\n\n    .dataframe thead th {\n        text-align: right;\n    }\n</style>\n<table border=\"1\" class=\"dataframe\">\n  <thead>\n    <tr style=\"text-align: right;\">\n      <th></th>\n      <th>tweet_id</th>\n      <th>username</th>\n      <th>text</th>\n      <th>tweet_date</th>\n      <th>search_term</th>\n      <th>city</th>\n      <th>lat</th>\n      <th>long</th>\n      <th>radius</th>\n      <th>query_start</th>\n    </tr>\n  </thead>\n  <tbody>\n    <tr>\n      <th>116</th>\n      <td>1233844182067875840</td>\n      <td>Hefe O-Ren Ishii</td>\n      <td>Y’all play and joke and keke over this covid s...</td>\n      <td>2020-02-29 19:59:11</td>\n      <td>COVID</td>\n      <td>Brooklyn</td>\n      <td>40.650002</td>\n      <td>-73.949997</td>\n      <td>10mi</td>\n      <td>2020-02-01</td>\n    </tr>\n    <tr>\n      <th>120</th>\n      <td>1233820264493993984</td>\n      <td>Jack Cohen 🏡</td>\n      <td>Covid is basically a worldwide fire drill.</td>\n      <td>2020-02-29 18:24:08</td>\n      <td>COVID</td>\n      <td>Brooklyn</td>\n      <td>40.650002</td>\n      <td>-73.949997</td>\n      <td>10mi</td>\n      <td>2020-02-01</td>\n    </tr>\n    <tr>\n      <th>121</th>\n      <td>1233812715199770624</td>\n      <td>Tim Quirino 🍕</td>\n      <td>So all the same concerns re: covid and it’s ef...</td>\n      <td>2020-02-29 17:54:09</td>\n      <td>COVID</td>\n      <td>Brooklyn</td>\n      <td>40.650002</td>\n      <td>-73.949997</td>\n      <td>10mi</td>\n      <td>2020-02-01</td>\n    </tr>\n    <tr>\n      <th>127</th>\n      <td>1233601346223460352</td>\n      <td>cody stuart</td>\n      <td>my covid nineteen prep has so far  consisted o...</td>\n      <td>2020-02-29 03:54:14</td>\n      <td>COVID</td>\n      <td>Brooklyn</td>\n      <td>40.650002</td>\n      <td>-73.949997</td>\n      <td>10mi</td>\n      <td>2020-02-01</td>\n    </tr>\n    <tr>\n      <th>133</th>\n      <td>1233562637214142464</td>\n      <td>たくぼー</td>\n      <td>まあその帰国がいつになるかはCOVID-19次第なんですがね。</td>\n      <td>2020-02-29 01:20:25</td>\n      <td>COVID</td>\n      <td>Brooklyn</td>\n      <td>40.650002</td>\n      <td>-73.949997</td>\n      <td>10mi</td>\n      <td>2020-02-01</td>\n    </tr>\n    <tr>\n      <th>...</th>\n      <td>...</td>\n      <td>...</td>\n      <td>...</td>\n      <td>...</td>\n      <td>...</td>\n      <td>...</td>\n      <td>...</td>\n      <td>...</td>\n      <td>...</td>\n      <td>...</td>\n    </tr>\n    <tr>\n      <th>102375</th>\n      <td>1259183090511028225</td>\n      <td>Brian -Doc- Hall 🌻🦺🌺</td>\n      <td>The current advisory is that due to shortages,...</td>\n      <td>2020-05-09 18:06:57</td>\n      <td>N95</td>\n      <td>NYC</td>\n      <td>40.963400</td>\n      <td>-72.184800</td>\n      <td>35mi</td>\n      <td>2020-01-01</td>\n    </tr>\n    <tr>\n      <th>102376</th>\n      <td>1259011974257664000</td>\n      <td>Trainman_lover 🚂🇺🇸⭐⭐⭐</td>\n      <td>What ?? The factories haven't been closed, Uni...</td>\n      <td>2020-05-09 06:47:00</td>\n      <td>N95</td>\n      <td>NYC</td>\n      <td>40.963400</td>\n      <td>-72.184800</td>\n      <td>35mi</td>\n      <td>2020-01-01</td>\n    </tr>\n    <tr>\n      <th>102377</th>\n      <td>1258420596452610050</td>\n      <td>Riverhead Patch</td>\n      <td>The hospitals received N95 masks, surgical mas...</td>\n      <td>2020-05-07 15:37:05</td>\n      <td>N95</td>\n      <td>NYC</td>\n      <td>40.963400</td>\n      <td>-72.184800</td>\n      <td>35mi</td>\n      <td>2020-01-01</td>\n    </tr>\n    <tr>\n      <th>102378</th>\n      <td>1258229860880846848</td>\n      <td>UGLYboiJIGGY</td>\n      <td>even the homeless got the N95 out here selling...</td>\n      <td>2020-05-07 02:59:10</td>\n      <td>N95</td>\n      <td>NYC</td>\n      <td>40.963400</td>\n      <td>-72.184800</td>\n      <td>35mi</td>\n      <td>2020-01-01</td>\n    </tr>\n    <tr>\n      <th>102379</th>\n      <td>1257328972360228865</td>\n      <td>Tristan Sess</td>\n      <td>If you don’t have some sort of n95 or bandana ...</td>\n      <td>2020-05-04 15:19:21</td>\n      <td>N95</td>\n      <td>NYC</td>\n      <td>40.963400</td>\n      <td>-72.184800</td>\n      <td>35mi</td>\n      <td>2020-01-01</td>\n    </tr>\n  </tbody>\n</table>\n<p>62348 rows × 10 columns</p>\n</div>"
     },
     "metadata": {},
     "execution_count": 19
    }
   ],
   "source": [
    "df"
   ]
  },
  {
   "cell_type": "markdown",
   "metadata": {},
   "source": [
    "We've removed just about 40,000 tweets from our dataset after dropping duplicates."
   ]
  }
 ],
 "metadata": {
  "kernelspec": {
   "display_name": "Python 3",
   "language": "python",
   "name": "python3"
  },
  "language_info": {
   "codemirror_mode": {
    "name": "ipython",
    "version": 3
   },
   "file_extension": ".py",
   "mimetype": "text/x-python",
   "name": "python",
   "nbconvert_exporter": "python",
   "pygments_lexer": "ipython3",
   "version": "3.7.6-final"
  }
 },
 "nbformat": 4,
 "nbformat_minor": 4
}