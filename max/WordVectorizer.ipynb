{
 "cells": [
  {
   "cell_type": "code",
   "execution_count": 1,
   "metadata": {},
   "outputs": [
    {
     "name": "stderr",
     "output_type": "stream",
     "text": [
      "/opt/anaconda3/envs/dsi/lib/python3.7/site-packages/tqdm/std.py:658: FutureWarning: The Panel class is removed from pandas. Accessing it from the top-level namespace will also be removed in the next version\n",
      "  from pandas import Panel\n"
     ]
    }
   ],
   "source": [
    "import numpy as np\n",
    "import pandas as pd\n",
    "import time\n",
    "import gensim\n",
    "import re\n",
    "from gensim.models.word2vec import Word2Vec \n",
    "from nltk.tokenize import RegexpTokenizer \n",
    "from nltk.stem import WordNetLemmatizer,PorterStemmer\n",
    "from nltk.stem.snowball import EnglishStemmer\n",
    "from nltk.corpus import stopwords\n",
    "from tqdm import tqdm\n",
    "tqdm.pandas(desc=\"progress-bar\")\n",
    "from nltk.tokenize import TweetTokenizer # a tweet tokenizer from nltk.\n",
    "tokenizer = TweetTokenizer()\n",
    "from sklearn.feature_extraction.text import TfidfVectorizer"
   ]
  },
  {
   "cell_type": "code",
   "execution_count": 2,
   "metadata": {},
   "outputs": [
    {
     "name": "stderr",
     "output_type": "stream",
     "text": [
      "/opt/anaconda3/envs/dsi/lib/python3.7/site-packages/ipykernel_launcher.py:3: FutureWarning: Passing a negative integer is deprecated in version 1.0 and will not be supported in future version. Instead, use None to not limit the column width.\n",
      "  This is separate from the ipykernel package so we can avoid doing imports until\n"
     ]
    }
   ],
   "source": [
    "df = pd.read_csv('../adam/datasets/scrape_5.11.csv')\n",
    "\n",
    "pd.set_option('display.max_colwidth', -1)"
   ]
  },
  {
   "cell_type": "code",
   "execution_count": 3,
   "metadata": {},
   "outputs": [
    {
     "data": {
      "text/html": [
       "<div>\n",
       "<style scoped>\n",
       "    .dataframe tbody tr th:only-of-type {\n",
       "        vertical-align: middle;\n",
       "    }\n",
       "\n",
       "    .dataframe tbody tr th {\n",
       "        vertical-align: top;\n",
       "    }\n",
       "\n",
       "    .dataframe thead th {\n",
       "        text-align: right;\n",
       "    }\n",
       "</style>\n",
       "<table border=\"1\" class=\"dataframe\">\n",
       "  <thead>\n",
       "    <tr style=\"text-align: right;\">\n",
       "      <th></th>\n",
       "      <th>tweet_id</th>\n",
       "      <th>username</th>\n",
       "      <th>text</th>\n",
       "      <th>tweet_date</th>\n",
       "      <th>search_term</th>\n",
       "      <th>city</th>\n",
       "      <th>lat</th>\n",
       "      <th>long</th>\n",
       "      <th>radius</th>\n",
       "      <th>query_start</th>\n",
       "    </tr>\n",
       "  </thead>\n",
       "  <tbody>\n",
       "    <tr>\n",
       "      <th>0</th>\n",
       "      <td>1228415289269858310</td>\n",
       "      <td>Bearjew1964</td>\n",
       "      <td>Disease modelers gaze into their computers to see the future of Covid-19, and it isn’t good https://www.statnews.com/2020/02/14/disease-modelers-see-future-of-covid-19/ … via @statnews</td>\n",
       "      <td>2020-02-14 20:26:42</td>\n",
       "      <td>COVID</td>\n",
       "      <td>Brooklyn</td>\n",
       "      <td>40.650002</td>\n",
       "      <td>-73.949997</td>\n",
       "      <td>10mi</td>\n",
       "      <td>2020-02-01</td>\n",
       "    </tr>\n",
       "    <tr>\n",
       "      <th>1</th>\n",
       "      <td>1228345808954765313</td>\n",
       "      <td>Carlos Salazar</td>\n",
       "      <td>I know we have a limited attention span and all, but this might be way more devastating than Covid-19. https://twitter.com/BBCWorld/status/1228290268857802752 …</td>\n",
       "      <td>2020-02-14 15:50:37</td>\n",
       "      <td>COVID</td>\n",
       "      <td>Brooklyn</td>\n",
       "      <td>40.650002</td>\n",
       "      <td>-73.949997</td>\n",
       "      <td>10mi</td>\n",
       "      <td>2020-02-01</td>\n",
       "    </tr>\n",
       "    <tr>\n",
       "      <th>2</th>\n",
       "      <td>1228149699145871360</td>\n",
       "      <td>Hefe O-Ren Ishii</td>\n",
       "      <td>As one Princess cruise is quarantined for COVID-19, another is hit with different illness https://www.nbcnews.com/news/us-news/one-princess-cruise-quarantined-covid-19-another-hit-different-illness-n1136436 … via @nbcnews</td>\n",
       "      <td>2020-02-14 02:51:20</td>\n",
       "      <td>COVID</td>\n",
       "      <td>Brooklyn</td>\n",
       "      <td>40.650002</td>\n",
       "      <td>-73.949997</td>\n",
       "      <td>10mi</td>\n",
       "      <td>2020-02-01</td>\n",
       "    </tr>\n",
       "    <tr>\n",
       "      <th>3</th>\n",
       "      <td>1228008158586720256</td>\n",
       "      <td>josh</td>\n",
       "      <td>how about we call it by it’s new name: COVID-19. and whats with the dramatic ass imagery? quit fear mongering, thanks</td>\n",
       "      <td>2020-02-13 17:28:54</td>\n",
       "      <td>COVID</td>\n",
       "      <td>Brooklyn</td>\n",
       "      <td>40.650002</td>\n",
       "      <td>-73.949997</td>\n",
       "      <td>10mi</td>\n",
       "      <td>2020-02-01</td>\n",
       "    </tr>\n",
       "    <tr>\n",
       "      <th>4</th>\n",
       "      <td>1227684262859636738</td>\n",
       "      <td>Helen Ong</td>\n",
       "      <td>Scorpio: To me, the #COVID_19 19, as virulent as it appears to be, is clearly containable if NYC has yet to see a confirmed case of infection. \\n\\nThe City is virtually a microcosm of the world, in numbers as well as in diversity. \\n\\n#CoronaVirus\\n#God_bless_you_Wuhan!</td>\n",
       "      <td>2020-02-12 20:01:52</td>\n",
       "      <td>COVID</td>\n",
       "      <td>Brooklyn</td>\n",
       "      <td>40.650002</td>\n",
       "      <td>-73.949997</td>\n",
       "      <td>10mi</td>\n",
       "      <td>2020-02-01</td>\n",
       "    </tr>\n",
       "  </tbody>\n",
       "</table>\n",
       "</div>"
      ],
      "text/plain": [
       "              tweet_id          username  \\\n",
       "0  1228415289269858310  Bearjew1964        \n",
       "1  1228345808954765313  Carlos Salazar     \n",
       "2  1228149699145871360  Hefe O-Ren Ishii   \n",
       "3  1228008158586720256  josh               \n",
       "4  1227684262859636738  Helen Ong          \n",
       "\n",
       "                                                                                                                                                                                                                                                                             text  \\\n",
       "0  Disease modelers gaze into their computers to see the future of Covid-19, and it isn’t good https://www.statnews.com/2020/02/14/disease-modelers-see-future-of-covid-19/ … via @statnews                                                                                         \n",
       "1  I know we have a limited attention span and all, but this might be way more devastating than Covid-19. https://twitter.com/BBCWorld/status/1228290268857802752 …                                                                                                                 \n",
       "2  As one Princess cruise is quarantined for COVID-19, another is hit with different illness https://www.nbcnews.com/news/us-news/one-princess-cruise-quarantined-covid-19-another-hit-different-illness-n1136436 … via @nbcnews                                                    \n",
       "3  how about we call it by it’s new name: COVID-19. and whats with the dramatic ass imagery? quit fear mongering, thanks                                                                                                                                                            \n",
       "4  Scorpio: To me, the #COVID_19 19, as virulent as it appears to be, is clearly containable if NYC has yet to see a confirmed case of infection. \\n\\nThe City is virtually a microcosm of the world, in numbers as well as in diversity. \\n\\n#CoronaVirus\\n#God_bless_you_Wuhan!   \n",
       "\n",
       "            tweet_date search_term      city        lat       long radius  \\\n",
       "0  2020-02-14 20:26:42  COVID       Brooklyn  40.650002 -73.949997  10mi    \n",
       "1  2020-02-14 15:50:37  COVID       Brooklyn  40.650002 -73.949997  10mi    \n",
       "2  2020-02-14 02:51:20  COVID       Brooklyn  40.650002 -73.949997  10mi    \n",
       "3  2020-02-13 17:28:54  COVID       Brooklyn  40.650002 -73.949997  10mi    \n",
       "4  2020-02-12 20:01:52  COVID       Brooklyn  40.650002 -73.949997  10mi    \n",
       "\n",
       "  query_start  \n",
       "0  2020-02-01  \n",
       "1  2020-02-01  \n",
       "2  2020-02-01  \n",
       "3  2020-02-01  \n",
       "4  2020-02-01  "
      ]
     },
     "execution_count": 3,
     "metadata": {},
     "output_type": "execute_result"
    }
   ],
   "source": [
    "df.head()"
   ]
  },
  {
   "cell_type": "code",
   "execution_count": 4,
   "metadata": {},
   "outputs": [
    {
     "data": {
      "text/plain": [
       "(96507, 10)"
      ]
     },
     "execution_count": 4,
     "metadata": {},
     "output_type": "execute_result"
    }
   ],
   "source": [
    "df.drop_duplicates(inplace=True)\n",
    "df.shape"
   ]
  },
  {
   "cell_type": "code",
   "execution_count": 5,
   "metadata": {},
   "outputs": [],
   "source": [
    "df['token_text'] = df['text'].str.replace('([^ a-zA-Z0-9])', '')\n",
    "df['split_text'] = df['token_text'].astype(str).str.lower().str.split()"
   ]
  },
  {
   "cell_type": "code",
   "execution_count": 6,
   "metadata": {},
   "outputs": [],
   "source": [
    "sent = [row for row in df['split_text']]"
   ]
  },
  {
   "cell_type": "code",
   "execution_count": 70,
   "metadata": {},
   "outputs": [],
   "source": [
    "tweet_w2v = Word2Vec(size=2000, min_count=1000, window=100)"
   ]
  },
  {
   "cell_type": "code",
   "execution_count": 71,
   "metadata": {},
   "outputs": [],
   "source": [
    "tweet_w2v.build_vocab(sent)"
   ]
  },
  {
   "cell_type": "code",
   "execution_count": 74,
   "metadata": {},
   "outputs": [
    {
     "name": "stderr",
     "output_type": "stream",
     "text": [
      "/opt/anaconda3/envs/dsi/lib/python3.7/site-packages/ipykernel_launcher.py:1: DeprecationWarning: Call to deprecated `most_similar` (Method will be removed in 4.0.0, use self.wv.most_similar() instead).\n",
      "  \"\"\"Entry point for launching an IPython kernel.\n"
     ]
    },
    {
     "data": {
      "text/plain": [
       "[('manhattan', 0.06396234035491943),\n",
       " ('going', 0.06152564287185669),\n",
       " ('positive', 0.05483439564704895),\n",
       " ('very', 0.050796493887901306),\n",
       " ('weeks', 0.05075221508741379),\n",
       " ('great', 0.04883856326341629),\n",
       " ('even', 0.04624320566654205),\n",
       " ('a', 0.04469980299472809),\n",
       " ('gloves', 0.0443817563354969),\n",
       " ('without', 0.039375271648168564)]"
      ]
     },
     "execution_count": 74,
     "metadata": {},
     "output_type": "execute_result"
    }
   ],
   "source": [
    "tweet_w2v.most_similar('test')"
   ]
  },
  {
   "cell_type": "code",
   "execution_count": null,
   "metadata": {},
   "outputs": [],
   "source": []
  }
 ],
 "metadata": {
  "kernelspec": {
   "display_name": "Python 3",
   "language": "python",
   "name": "python3"
  },
  "language_info": {
   "codemirror_mode": {
    "name": "ipython",
    "version": 3
   },
   "file_extension": ".py",
   "mimetype": "text/x-python",
   "name": "python",
   "nbconvert_exporter": "python",
   "pygments_lexer": "ipython3",
   "version": "3.7.6"
  }
 },
 "nbformat": 4,
 "nbformat_minor": 4
}
